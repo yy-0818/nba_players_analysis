{
 "cells": [
  {
   "cell_type": "code",
   "execution_count": 1,
   "metadata": {},
   "outputs": [],
   "source": [
    "import pandas as pd # data processing, CSV file I/O (e.g. pd.read_csv)\n",
    "\n",
    "df = pd.read_csv('./data/all_seasons.csv')\n",
    "df.rename(columns = {'player_name':'name', 'team_abbreviation':'team', 'player_height':'height', 'player_weight':'weight', \n",
    "                     'pts':'avg_pts', 'reb':'avg_reb', 'ast':'avg_ast'}, inplace = True)\n",
    "df['year'] = df['season'].apply(lambda x: int(x.split('-')[0]))"
   ]
  },
  {
   "cell_type": "code",
   "execution_count": 2,
   "metadata": {},
   "outputs": [
    {
     "data": {
      "text/html": [
       "<div>\n",
       "<style scoped>\n",
       "    .dataframe tbody tr th:only-of-type {\n",
       "        vertical-align: middle;\n",
       "    }\n",
       "\n",
       "    .dataframe tbody tr th {\n",
       "        vertical-align: top;\n",
       "    }\n",
       "\n",
       "    .dataframe thead th {\n",
       "        text-align: right;\n",
       "    }\n",
       "</style>\n",
       "<table border=\"1\" class=\"dataframe\">\n",
       "  <thead>\n",
       "    <tr style=\"text-align: right;\">\n",
       "      <th></th>\n",
       "      <th>Unnamed: 0</th>\n",
       "      <th>name</th>\n",
       "      <th>team</th>\n",
       "      <th>age</th>\n",
       "      <th>height</th>\n",
       "      <th>weight</th>\n",
       "      <th>college</th>\n",
       "      <th>country</th>\n",
       "      <th>draft_year</th>\n",
       "      <th>draft_round</th>\n",
       "      <th>...</th>\n",
       "      <th>avg_reb</th>\n",
       "      <th>avg_ast</th>\n",
       "      <th>net_rating</th>\n",
       "      <th>oreb_pct</th>\n",
       "      <th>dreb_pct</th>\n",
       "      <th>usg_pct</th>\n",
       "      <th>ts_pct</th>\n",
       "      <th>ast_pct</th>\n",
       "      <th>season</th>\n",
       "      <th>year</th>\n",
       "    </tr>\n",
       "  </thead>\n",
       "  <tbody>\n",
       "    <tr>\n",
       "      <th>0</th>\n",
       "      <td>0</td>\n",
       "      <td>Randy Livingston</td>\n",
       "      <td>HOU</td>\n",
       "      <td>22.0</td>\n",
       "      <td>193.04</td>\n",
       "      <td>94.800728</td>\n",
       "      <td>Louisiana State</td>\n",
       "      <td>USA</td>\n",
       "      <td>1996</td>\n",
       "      <td>2</td>\n",
       "      <td>...</td>\n",
       "      <td>1.5</td>\n",
       "      <td>2.4</td>\n",
       "      <td>0.3</td>\n",
       "      <td>0.042</td>\n",
       "      <td>0.071</td>\n",
       "      <td>0.169</td>\n",
       "      <td>0.487</td>\n",
       "      <td>0.248</td>\n",
       "      <td>1996-97</td>\n",
       "      <td>1996</td>\n",
       "    </tr>\n",
       "    <tr>\n",
       "      <th>1</th>\n",
       "      <td>1</td>\n",
       "      <td>Gaylon Nickerson</td>\n",
       "      <td>WAS</td>\n",
       "      <td>28.0</td>\n",
       "      <td>190.50</td>\n",
       "      <td>86.182480</td>\n",
       "      <td>Northwestern Oklahoma</td>\n",
       "      <td>USA</td>\n",
       "      <td>1994</td>\n",
       "      <td>2</td>\n",
       "      <td>...</td>\n",
       "      <td>1.3</td>\n",
       "      <td>0.3</td>\n",
       "      <td>8.9</td>\n",
       "      <td>0.030</td>\n",
       "      <td>0.111</td>\n",
       "      <td>0.174</td>\n",
       "      <td>0.497</td>\n",
       "      <td>0.043</td>\n",
       "      <td>1996-97</td>\n",
       "      <td>1996</td>\n",
       "    </tr>\n",
       "    <tr>\n",
       "      <th>2</th>\n",
       "      <td>2</td>\n",
       "      <td>George Lynch</td>\n",
       "      <td>VAN</td>\n",
       "      <td>26.0</td>\n",
       "      <td>203.20</td>\n",
       "      <td>103.418976</td>\n",
       "      <td>North Carolina</td>\n",
       "      <td>USA</td>\n",
       "      <td>1993</td>\n",
       "      <td>1</td>\n",
       "      <td>...</td>\n",
       "      <td>6.4</td>\n",
       "      <td>1.9</td>\n",
       "      <td>-8.2</td>\n",
       "      <td>0.106</td>\n",
       "      <td>0.185</td>\n",
       "      <td>0.175</td>\n",
       "      <td>0.512</td>\n",
       "      <td>0.125</td>\n",
       "      <td>1996-97</td>\n",
       "      <td>1996</td>\n",
       "    </tr>\n",
       "    <tr>\n",
       "      <th>3</th>\n",
       "      <td>3</td>\n",
       "      <td>George McCloud</td>\n",
       "      <td>LAL</td>\n",
       "      <td>30.0</td>\n",
       "      <td>203.20</td>\n",
       "      <td>102.058200</td>\n",
       "      <td>Florida State</td>\n",
       "      <td>USA</td>\n",
       "      <td>1989</td>\n",
       "      <td>1</td>\n",
       "      <td>...</td>\n",
       "      <td>2.8</td>\n",
       "      <td>1.7</td>\n",
       "      <td>-2.7</td>\n",
       "      <td>0.027</td>\n",
       "      <td>0.111</td>\n",
       "      <td>0.206</td>\n",
       "      <td>0.527</td>\n",
       "      <td>0.125</td>\n",
       "      <td>1996-97</td>\n",
       "      <td>1996</td>\n",
       "    </tr>\n",
       "    <tr>\n",
       "      <th>4</th>\n",
       "      <td>4</td>\n",
       "      <td>George Zidek</td>\n",
       "      <td>DEN</td>\n",
       "      <td>23.0</td>\n",
       "      <td>213.36</td>\n",
       "      <td>119.748288</td>\n",
       "      <td>UCLA</td>\n",
       "      <td>USA</td>\n",
       "      <td>1995</td>\n",
       "      <td>1</td>\n",
       "      <td>...</td>\n",
       "      <td>1.7</td>\n",
       "      <td>0.3</td>\n",
       "      <td>-14.1</td>\n",
       "      <td>0.102</td>\n",
       "      <td>0.169</td>\n",
       "      <td>0.195</td>\n",
       "      <td>0.500</td>\n",
       "      <td>0.064</td>\n",
       "      <td>1996-97</td>\n",
       "      <td>1996</td>\n",
       "    </tr>\n",
       "  </tbody>\n",
       "</table>\n",
       "<p>5 rows × 23 columns</p>\n",
       "</div>"
      ],
      "text/plain": [
       "   Unnamed: 0              name team   age  height      weight  \\\n",
       "0           0  Randy Livingston  HOU  22.0  193.04   94.800728   \n",
       "1           1  Gaylon Nickerson  WAS  28.0  190.50   86.182480   \n",
       "2           2      George Lynch  VAN  26.0  203.20  103.418976   \n",
       "3           3    George McCloud  LAL  30.0  203.20  102.058200   \n",
       "4           4      George Zidek  DEN  23.0  213.36  119.748288   \n",
       "\n",
       "                 college country draft_year draft_round  ... avg_reb  avg_ast  \\\n",
       "0        Louisiana State     USA       1996           2  ...     1.5      2.4   \n",
       "1  Northwestern Oklahoma     USA       1994           2  ...     1.3      0.3   \n",
       "2         North Carolina     USA       1993           1  ...     6.4      1.9   \n",
       "3          Florida State     USA       1989           1  ...     2.8      1.7   \n",
       "4                   UCLA     USA       1995           1  ...     1.7      0.3   \n",
       "\n",
       "   net_rating  oreb_pct  dreb_pct  usg_pct  ts_pct  ast_pct   season  year  \n",
       "0         0.3     0.042     0.071    0.169   0.487    0.248  1996-97  1996  \n",
       "1         8.9     0.030     0.111    0.174   0.497    0.043  1996-97  1996  \n",
       "2        -8.2     0.106     0.185    0.175   0.512    0.125  1996-97  1996  \n",
       "3        -2.7     0.027     0.111    0.206   0.527    0.125  1996-97  1996  \n",
       "4       -14.1     0.102     0.169    0.195   0.500    0.064  1996-97  1996  \n",
       "\n",
       "[5 rows x 23 columns]"
      ]
     },
     "execution_count": 2,
     "metadata": {},
     "output_type": "execute_result"
    }
   ],
   "source": [
    "df.head()"
   ]
  },
  {
   "cell_type": "code",
   "execution_count": 3,
   "metadata": {},
   "outputs": [
    {
     "data": {
      "text/html": [
       "<div>\n",
       "<style scoped>\n",
       "    .dataframe tbody tr th:only-of-type {\n",
       "        vertical-align: middle;\n",
       "    }\n",
       "\n",
       "    .dataframe tbody tr th {\n",
       "        vertical-align: top;\n",
       "    }\n",
       "\n",
       "    .dataframe thead th {\n",
       "        text-align: right;\n",
       "    }\n",
       "</style>\n",
       "<table border=\"1\" class=\"dataframe\">\n",
       "  <thead>\n",
       "    <tr style=\"text-align: right;\">\n",
       "      <th></th>\n",
       "      <th>Unnamed: 0</th>\n",
       "      <th>team</th>\n",
       "      <th>age</th>\n",
       "      <th>height</th>\n",
       "      <th>weight</th>\n",
       "      <th>college</th>\n",
       "      <th>country</th>\n",
       "      <th>draft_year</th>\n",
       "      <th>draft_round</th>\n",
       "      <th>draft_number</th>\n",
       "      <th>...</th>\n",
       "      <th>avg_reb</th>\n",
       "      <th>avg_ast</th>\n",
       "      <th>net_rating</th>\n",
       "      <th>oreb_pct</th>\n",
       "      <th>dreb_pct</th>\n",
       "      <th>usg_pct</th>\n",
       "      <th>ts_pct</th>\n",
       "      <th>ast_pct</th>\n",
       "      <th>season</th>\n",
       "      <th>year</th>\n",
       "    </tr>\n",
       "    <tr>\n",
       "      <th>name</th>\n",
       "      <th></th>\n",
       "      <th></th>\n",
       "      <th></th>\n",
       "      <th></th>\n",
       "      <th></th>\n",
       "      <th></th>\n",
       "      <th></th>\n",
       "      <th></th>\n",
       "      <th></th>\n",
       "      <th></th>\n",
       "      <th></th>\n",
       "      <th></th>\n",
       "      <th></th>\n",
       "      <th></th>\n",
       "      <th></th>\n",
       "      <th></th>\n",
       "      <th></th>\n",
       "      <th></th>\n",
       "      <th></th>\n",
       "      <th></th>\n",
       "      <th></th>\n",
       "    </tr>\n",
       "  </thead>\n",
       "  <tbody>\n",
       "    <tr>\n",
       "      <th>A.C. Green</th>\n",
       "      <td>5</td>\n",
       "      <td>5</td>\n",
       "      <td>5</td>\n",
       "      <td>5</td>\n",
       "      <td>5</td>\n",
       "      <td>5</td>\n",
       "      <td>5</td>\n",
       "      <td>5</td>\n",
       "      <td>5</td>\n",
       "      <td>5</td>\n",
       "      <td>...</td>\n",
       "      <td>5</td>\n",
       "      <td>5</td>\n",
       "      <td>5</td>\n",
       "      <td>5</td>\n",
       "      <td>5</td>\n",
       "      <td>5</td>\n",
       "      <td>5</td>\n",
       "      <td>5</td>\n",
       "      <td>5</td>\n",
       "      <td>5</td>\n",
       "    </tr>\n",
       "    <tr>\n",
       "      <th>A.J. Bramlett</th>\n",
       "      <td>1</td>\n",
       "      <td>1</td>\n",
       "      <td>1</td>\n",
       "      <td>1</td>\n",
       "      <td>1</td>\n",
       "      <td>1</td>\n",
       "      <td>1</td>\n",
       "      <td>1</td>\n",
       "      <td>1</td>\n",
       "      <td>1</td>\n",
       "      <td>...</td>\n",
       "      <td>1</td>\n",
       "      <td>1</td>\n",
       "      <td>1</td>\n",
       "      <td>1</td>\n",
       "      <td>1</td>\n",
       "      <td>1</td>\n",
       "      <td>1</td>\n",
       "      <td>1</td>\n",
       "      <td>1</td>\n",
       "      <td>1</td>\n",
       "    </tr>\n",
       "    <tr>\n",
       "      <th>A.J. Guyton</th>\n",
       "      <td>3</td>\n",
       "      <td>3</td>\n",
       "      <td>3</td>\n",
       "      <td>3</td>\n",
       "      <td>3</td>\n",
       "      <td>3</td>\n",
       "      <td>3</td>\n",
       "      <td>3</td>\n",
       "      <td>3</td>\n",
       "      <td>3</td>\n",
       "      <td>...</td>\n",
       "      <td>3</td>\n",
       "      <td>3</td>\n",
       "      <td>3</td>\n",
       "      <td>3</td>\n",
       "      <td>3</td>\n",
       "      <td>3</td>\n",
       "      <td>3</td>\n",
       "      <td>3</td>\n",
       "      <td>3</td>\n",
       "      <td>3</td>\n",
       "    </tr>\n",
       "    <tr>\n",
       "      <th>A.J. Lawson</th>\n",
       "      <td>1</td>\n",
       "      <td>1</td>\n",
       "      <td>1</td>\n",
       "      <td>1</td>\n",
       "      <td>1</td>\n",
       "      <td>1</td>\n",
       "      <td>1</td>\n",
       "      <td>1</td>\n",
       "      <td>1</td>\n",
       "      <td>1</td>\n",
       "      <td>...</td>\n",
       "      <td>1</td>\n",
       "      <td>1</td>\n",
       "      <td>1</td>\n",
       "      <td>1</td>\n",
       "      <td>1</td>\n",
       "      <td>1</td>\n",
       "      <td>1</td>\n",
       "      <td>1</td>\n",
       "      <td>1</td>\n",
       "      <td>1</td>\n",
       "    </tr>\n",
       "    <tr>\n",
       "      <th>AJ Green</th>\n",
       "      <td>1</td>\n",
       "      <td>1</td>\n",
       "      <td>1</td>\n",
       "      <td>1</td>\n",
       "      <td>1</td>\n",
       "      <td>1</td>\n",
       "      <td>1</td>\n",
       "      <td>1</td>\n",
       "      <td>1</td>\n",
       "      <td>1</td>\n",
       "      <td>...</td>\n",
       "      <td>1</td>\n",
       "      <td>1</td>\n",
       "      <td>1</td>\n",
       "      <td>1</td>\n",
       "      <td>1</td>\n",
       "      <td>1</td>\n",
       "      <td>1</td>\n",
       "      <td>1</td>\n",
       "      <td>1</td>\n",
       "      <td>1</td>\n",
       "    </tr>\n",
       "    <tr>\n",
       "      <th>...</th>\n",
       "      <td>...</td>\n",
       "      <td>...</td>\n",
       "      <td>...</td>\n",
       "      <td>...</td>\n",
       "      <td>...</td>\n",
       "      <td>...</td>\n",
       "      <td>...</td>\n",
       "      <td>...</td>\n",
       "      <td>...</td>\n",
       "      <td>...</td>\n",
       "      <td>...</td>\n",
       "      <td>...</td>\n",
       "      <td>...</td>\n",
       "      <td>...</td>\n",
       "      <td>...</td>\n",
       "      <td>...</td>\n",
       "      <td>...</td>\n",
       "      <td>...</td>\n",
       "      <td>...</td>\n",
       "      <td>...</td>\n",
       "      <td>...</td>\n",
       "    </tr>\n",
       "    <tr>\n",
       "      <th>Zion Williamson</th>\n",
       "      <td>3</td>\n",
       "      <td>3</td>\n",
       "      <td>3</td>\n",
       "      <td>3</td>\n",
       "      <td>3</td>\n",
       "      <td>3</td>\n",
       "      <td>3</td>\n",
       "      <td>3</td>\n",
       "      <td>3</td>\n",
       "      <td>3</td>\n",
       "      <td>...</td>\n",
       "      <td>3</td>\n",
       "      <td>3</td>\n",
       "      <td>3</td>\n",
       "      <td>3</td>\n",
       "      <td>3</td>\n",
       "      <td>3</td>\n",
       "      <td>3</td>\n",
       "      <td>3</td>\n",
       "      <td>3</td>\n",
       "      <td>3</td>\n",
       "    </tr>\n",
       "    <tr>\n",
       "      <th>Zoran Dragic</th>\n",
       "      <td>1</td>\n",
       "      <td>1</td>\n",
       "      <td>1</td>\n",
       "      <td>1</td>\n",
       "      <td>1</td>\n",
       "      <td>0</td>\n",
       "      <td>1</td>\n",
       "      <td>1</td>\n",
       "      <td>1</td>\n",
       "      <td>1</td>\n",
       "      <td>...</td>\n",
       "      <td>1</td>\n",
       "      <td>1</td>\n",
       "      <td>1</td>\n",
       "      <td>1</td>\n",
       "      <td>1</td>\n",
       "      <td>1</td>\n",
       "      <td>1</td>\n",
       "      <td>1</td>\n",
       "      <td>1</td>\n",
       "      <td>1</td>\n",
       "    </tr>\n",
       "    <tr>\n",
       "      <th>Zoran Planinic</th>\n",
       "      <td>3</td>\n",
       "      <td>3</td>\n",
       "      <td>3</td>\n",
       "      <td>3</td>\n",
       "      <td>3</td>\n",
       "      <td>0</td>\n",
       "      <td>3</td>\n",
       "      <td>3</td>\n",
       "      <td>3</td>\n",
       "      <td>3</td>\n",
       "      <td>...</td>\n",
       "      <td>3</td>\n",
       "      <td>3</td>\n",
       "      <td>3</td>\n",
       "      <td>3</td>\n",
       "      <td>3</td>\n",
       "      <td>3</td>\n",
       "      <td>3</td>\n",
       "      <td>3</td>\n",
       "      <td>3</td>\n",
       "      <td>3</td>\n",
       "    </tr>\n",
       "    <tr>\n",
       "      <th>Zydrunas Ilgauskas</th>\n",
       "      <td>13</td>\n",
       "      <td>13</td>\n",
       "      <td>13</td>\n",
       "      <td>13</td>\n",
       "      <td>13</td>\n",
       "      <td>0</td>\n",
       "      <td>13</td>\n",
       "      <td>13</td>\n",
       "      <td>13</td>\n",
       "      <td>13</td>\n",
       "      <td>...</td>\n",
       "      <td>13</td>\n",
       "      <td>13</td>\n",
       "      <td>13</td>\n",
       "      <td>13</td>\n",
       "      <td>13</td>\n",
       "      <td>13</td>\n",
       "      <td>13</td>\n",
       "      <td>13</td>\n",
       "      <td>13</td>\n",
       "      <td>13</td>\n",
       "    </tr>\n",
       "    <tr>\n",
       "      <th>Zylan Cheatham</th>\n",
       "      <td>2</td>\n",
       "      <td>2</td>\n",
       "      <td>2</td>\n",
       "      <td>2</td>\n",
       "      <td>2</td>\n",
       "      <td>2</td>\n",
       "      <td>2</td>\n",
       "      <td>2</td>\n",
       "      <td>2</td>\n",
       "      <td>2</td>\n",
       "      <td>...</td>\n",
       "      <td>2</td>\n",
       "      <td>2</td>\n",
       "      <td>2</td>\n",
       "      <td>2</td>\n",
       "      <td>2</td>\n",
       "      <td>2</td>\n",
       "      <td>2</td>\n",
       "      <td>2</td>\n",
       "      <td>2</td>\n",
       "      <td>2</td>\n",
       "    </tr>\n",
       "  </tbody>\n",
       "</table>\n",
       "<p>2551 rows × 22 columns</p>\n",
       "</div>"
      ],
      "text/plain": [
       "                    Unnamed: 0  team  age  height  weight  college  country  \\\n",
       "name                                                                          \n",
       "A.C. Green                   5     5    5       5       5        5        5   \n",
       "A.J. Bramlett                1     1    1       1       1        1        1   \n",
       "A.J. Guyton                  3     3    3       3       3        3        3   \n",
       "A.J. Lawson                  1     1    1       1       1        1        1   \n",
       "AJ Green                     1     1    1       1       1        1        1   \n",
       "...                        ...   ...  ...     ...     ...      ...      ...   \n",
       "Zion Williamson              3     3    3       3       3        3        3   \n",
       "Zoran Dragic                 1     1    1       1       1        0        1   \n",
       "Zoran Planinic               3     3    3       3       3        0        3   \n",
       "Zydrunas Ilgauskas          13    13   13      13      13        0       13   \n",
       "Zylan Cheatham               2     2    2       2       2        2        2   \n",
       "\n",
       "                    draft_year  draft_round  draft_number  ...  avg_reb  \\\n",
       "name                                                       ...            \n",
       "A.C. Green                   5            5             5  ...        5   \n",
       "A.J. Bramlett                1            1             1  ...        1   \n",
       "A.J. Guyton                  3            3             3  ...        3   \n",
       "A.J. Lawson                  1            1             1  ...        1   \n",
       "AJ Green                     1            1             1  ...        1   \n",
       "...                        ...          ...           ...  ...      ...   \n",
       "Zion Williamson              3            3             3  ...        3   \n",
       "Zoran Dragic                 1            1             1  ...        1   \n",
       "Zoran Planinic               3            3             3  ...        3   \n",
       "Zydrunas Ilgauskas          13           13            13  ...       13   \n",
       "Zylan Cheatham               2            2             2  ...        2   \n",
       "\n",
       "                    avg_ast  net_rating  oreb_pct  dreb_pct  usg_pct  ts_pct  \\\n",
       "name                                                                           \n",
       "A.C. Green                5           5         5         5        5       5   \n",
       "A.J. Bramlett             1           1         1         1        1       1   \n",
       "A.J. Guyton               3           3         3         3        3       3   \n",
       "A.J. Lawson               1           1         1         1        1       1   \n",
       "AJ Green                  1           1         1         1        1       1   \n",
       "...                     ...         ...       ...       ...      ...     ...   \n",
       "Zion Williamson           3           3         3         3        3       3   \n",
       "Zoran Dragic              1           1         1         1        1       1   \n",
       "Zoran Planinic            3           3         3         3        3       3   \n",
       "Zydrunas Ilgauskas       13          13        13        13       13      13   \n",
       "Zylan Cheatham            2           2         2         2        2       2   \n",
       "\n",
       "                    ast_pct  season  year  \n",
       "name                                       \n",
       "A.C. Green                5       5     5  \n",
       "A.J. Bramlett             1       1     1  \n",
       "A.J. Guyton               3       3     3  \n",
       "A.J. Lawson               1       1     1  \n",
       "AJ Green                  1       1     1  \n",
       "...                     ...     ...   ...  \n",
       "Zion Williamson           3       3     3  \n",
       "Zoran Dragic              1       1     1  \n",
       "Zoran Planinic            3       3     3  \n",
       "Zydrunas Ilgauskas       13      13    13  \n",
       "Zylan Cheatham            2       2     2  \n",
       "\n",
       "[2551 rows x 22 columns]"
      ]
     },
     "execution_count": 3,
     "metadata": {},
     "output_type": "execute_result"
    }
   ],
   "source": [
    "df.groupby(['name']).count()"
   ]
  },
  {
   "cell_type": "markdown",
   "metadata": {},
   "source": [
    "> 该数据集中约有 2500 名运动员"
   ]
  },
  {
   "cell_type": "code",
   "execution_count": 4,
   "metadata": {},
   "outputs": [
    {
     "data": {
      "text/html": [
       "<div>\n",
       "<style scoped>\n",
       "    .dataframe tbody tr th:only-of-type {\n",
       "        vertical-align: middle;\n",
       "    }\n",
       "\n",
       "    .dataframe tbody tr th {\n",
       "        vertical-align: top;\n",
       "    }\n",
       "\n",
       "    .dataframe thead th {\n",
       "        text-align: right;\n",
       "    }\n",
       "</style>\n",
       "<table border=\"1\" class=\"dataframe\">\n",
       "  <thead>\n",
       "    <tr style=\"text-align: right;\">\n",
       "      <th></th>\n",
       "      <th>Unnamed: 0</th>\n",
       "      <th>name</th>\n",
       "      <th>team</th>\n",
       "      <th>age</th>\n",
       "      <th>height</th>\n",
       "      <th>weight</th>\n",
       "      <th>college</th>\n",
       "      <th>country</th>\n",
       "      <th>draft_year</th>\n",
       "      <th>draft_round</th>\n",
       "      <th>...</th>\n",
       "      <th>oreb_pct</th>\n",
       "      <th>dreb_pct</th>\n",
       "      <th>usg_pct</th>\n",
       "      <th>ts_pct</th>\n",
       "      <th>ast_pct</th>\n",
       "      <th>season</th>\n",
       "      <th>year</th>\n",
       "      <th>pts</th>\n",
       "      <th>reb</th>\n",
       "      <th>ast</th>\n",
       "    </tr>\n",
       "  </thead>\n",
       "  <tbody>\n",
       "    <tr>\n",
       "      <th>0</th>\n",
       "      <td>0</td>\n",
       "      <td>Randy Livingston</td>\n",
       "      <td>HOU</td>\n",
       "      <td>22.0</td>\n",
       "      <td>193.04</td>\n",
       "      <td>94.800728</td>\n",
       "      <td>Louisiana State</td>\n",
       "      <td>USA</td>\n",
       "      <td>1996</td>\n",
       "      <td>2</td>\n",
       "      <td>...</td>\n",
       "      <td>0.042</td>\n",
       "      <td>0.071</td>\n",
       "      <td>0.169</td>\n",
       "      <td>0.487</td>\n",
       "      <td>0.248</td>\n",
       "      <td>1996-97</td>\n",
       "      <td>1996</td>\n",
       "      <td>249</td>\n",
       "      <td>96</td>\n",
       "      <td>153</td>\n",
       "    </tr>\n",
       "    <tr>\n",
       "      <th>1</th>\n",
       "      <td>1</td>\n",
       "      <td>Gaylon Nickerson</td>\n",
       "      <td>WAS</td>\n",
       "      <td>28.0</td>\n",
       "      <td>190.50</td>\n",
       "      <td>86.182480</td>\n",
       "      <td>Northwestern Oklahoma</td>\n",
       "      <td>USA</td>\n",
       "      <td>1994</td>\n",
       "      <td>2</td>\n",
       "      <td>...</td>\n",
       "      <td>0.030</td>\n",
       "      <td>0.111</td>\n",
       "      <td>0.174</td>\n",
       "      <td>0.497</td>\n",
       "      <td>0.043</td>\n",
       "      <td>1996-97</td>\n",
       "      <td>1996</td>\n",
       "      <td>15</td>\n",
       "      <td>5</td>\n",
       "      <td>1</td>\n",
       "    </tr>\n",
       "    <tr>\n",
       "      <th>2</th>\n",
       "      <td>2</td>\n",
       "      <td>George Lynch</td>\n",
       "      <td>VAN</td>\n",
       "      <td>26.0</td>\n",
       "      <td>203.20</td>\n",
       "      <td>103.418976</td>\n",
       "      <td>North Carolina</td>\n",
       "      <td>USA</td>\n",
       "      <td>1993</td>\n",
       "      <td>1</td>\n",
       "      <td>...</td>\n",
       "      <td>0.106</td>\n",
       "      <td>0.185</td>\n",
       "      <td>0.175</td>\n",
       "      <td>0.512</td>\n",
       "      <td>0.125</td>\n",
       "      <td>1996-97</td>\n",
       "      <td>1996</td>\n",
       "      <td>340</td>\n",
       "      <td>262</td>\n",
       "      <td>77</td>\n",
       "    </tr>\n",
       "    <tr>\n",
       "      <th>3</th>\n",
       "      <td>3</td>\n",
       "      <td>George McCloud</td>\n",
       "      <td>LAL</td>\n",
       "      <td>30.0</td>\n",
       "      <td>203.20</td>\n",
       "      <td>102.058200</td>\n",
       "      <td>Florida State</td>\n",
       "      <td>USA</td>\n",
       "      <td>1989</td>\n",
       "      <td>1</td>\n",
       "      <td>...</td>\n",
       "      <td>0.027</td>\n",
       "      <td>0.111</td>\n",
       "      <td>0.206</td>\n",
       "      <td>0.527</td>\n",
       "      <td>0.125</td>\n",
       "      <td>1996-97</td>\n",
       "      <td>1996</td>\n",
       "      <td>652</td>\n",
       "      <td>179</td>\n",
       "      <td>108</td>\n",
       "    </tr>\n",
       "    <tr>\n",
       "      <th>4</th>\n",
       "      <td>4</td>\n",
       "      <td>George Zidek</td>\n",
       "      <td>DEN</td>\n",
       "      <td>23.0</td>\n",
       "      <td>213.36</td>\n",
       "      <td>119.748288</td>\n",
       "      <td>UCLA</td>\n",
       "      <td>USA</td>\n",
       "      <td>1995</td>\n",
       "      <td>1</td>\n",
       "      <td>...</td>\n",
       "      <td>0.102</td>\n",
       "      <td>0.169</td>\n",
       "      <td>0.195</td>\n",
       "      <td>0.500</td>\n",
       "      <td>0.064</td>\n",
       "      <td>1996-97</td>\n",
       "      <td>1996</td>\n",
       "      <td>145</td>\n",
       "      <td>88</td>\n",
       "      <td>15</td>\n",
       "    </tr>\n",
       "  </tbody>\n",
       "</table>\n",
       "<p>5 rows × 26 columns</p>\n",
       "</div>"
      ],
      "text/plain": [
       "   Unnamed: 0              name team   age  height      weight  \\\n",
       "0           0  Randy Livingston  HOU  22.0  193.04   94.800728   \n",
       "1           1  Gaylon Nickerson  WAS  28.0  190.50   86.182480   \n",
       "2           2      George Lynch  VAN  26.0  203.20  103.418976   \n",
       "3           3    George McCloud  LAL  30.0  203.20  102.058200   \n",
       "4           4      George Zidek  DEN  23.0  213.36  119.748288   \n",
       "\n",
       "                 college country draft_year draft_round  ... oreb_pct  \\\n",
       "0        Louisiana State     USA       1996           2  ...    0.042   \n",
       "1  Northwestern Oklahoma     USA       1994           2  ...    0.030   \n",
       "2         North Carolina     USA       1993           1  ...    0.106   \n",
       "3          Florida State     USA       1989           1  ...    0.027   \n",
       "4                   UCLA     USA       1995           1  ...    0.102   \n",
       "\n",
       "   dreb_pct  usg_pct  ts_pct  ast_pct   season  year  pts  reb  ast  \n",
       "0     0.071    0.169   0.487    0.248  1996-97  1996  249   96  153  \n",
       "1     0.111    0.174   0.497    0.043  1996-97  1996   15    5    1  \n",
       "2     0.185    0.175   0.512    0.125  1996-97  1996  340  262   77  \n",
       "3     0.111    0.206   0.527    0.125  1996-97  1996  652  179  108  \n",
       "4     0.169    0.195   0.500    0.064  1996-97  1996  145   88   15  \n",
       "\n",
       "[5 rows x 26 columns]"
      ]
     },
     "execution_count": 4,
     "metadata": {},
     "output_type": "execute_result"
    }
   ],
   "source": [
    "df['pts'] = (df['gp']*df['avg_pts']).astype(int)\n",
    "df['reb'] = (df['gp']*df['avg_reb']).astype(int)\n",
    "df['ast'] = (df['gp']*df['avg_ast']).astype(int)\n",
    "df.head()"
   ]
  },
  {
   "cell_type": "markdown",
   "metadata": {},
   "source": [
    "> 由于原始数据集包含每年的平均指标（例如场均得分），所以我添加了最后三列每年的总得分、篮板和助攻。 请注意，实际指标可能存在小误差。"
   ]
  },
  {
   "cell_type": "code",
   "execution_count": 5,
   "metadata": {},
   "outputs": [
    {
     "data": {
      "text/html": [
       "<div>\n",
       "<style scoped>\n",
       "    .dataframe tbody tr th:only-of-type {\n",
       "        vertical-align: middle;\n",
       "    }\n",
       "\n",
       "    .dataframe tbody tr th {\n",
       "        vertical-align: top;\n",
       "    }\n",
       "\n",
       "    .dataframe thead th {\n",
       "        text-align: right;\n",
       "    }\n",
       "</style>\n",
       "<table border=\"1\" class=\"dataframe\">\n",
       "  <thead>\n",
       "    <tr style=\"text-align: right;\">\n",
       "      <th></th>\n",
       "      <th>Unnamed: 0</th>\n",
       "      <th>name</th>\n",
       "      <th>team</th>\n",
       "      <th>age</th>\n",
       "      <th>height</th>\n",
       "      <th>weight</th>\n",
       "      <th>college</th>\n",
       "      <th>country</th>\n",
       "      <th>draft_year</th>\n",
       "      <th>draft_round</th>\n",
       "      <th>...</th>\n",
       "      <th>ts_pct</th>\n",
       "      <th>ast_pct</th>\n",
       "      <th>season</th>\n",
       "      <th>year</th>\n",
       "      <th>pts</th>\n",
       "      <th>reb</th>\n",
       "      <th>ast</th>\n",
       "      <th>total_pts</th>\n",
       "      <th>total_reb</th>\n",
       "      <th>total_ast</th>\n",
       "    </tr>\n",
       "  </thead>\n",
       "  <tbody>\n",
       "    <tr>\n",
       "      <th>334</th>\n",
       "      <td>334</td>\n",
       "      <td>Kobe Bryant</td>\n",
       "      <td>LAL</td>\n",
       "      <td>18.0</td>\n",
       "      <td>200.66</td>\n",
       "      <td>90.71840</td>\n",
       "      <td>NaN</td>\n",
       "      <td>USA</td>\n",
       "      <td>1996</td>\n",
       "      <td>1</td>\n",
       "      <td>...</td>\n",
       "      <td>0.544</td>\n",
       "      <td>0.144</td>\n",
       "      <td>1996-97</td>\n",
       "      <td>1996</td>\n",
       "      <td>539</td>\n",
       "      <td>134</td>\n",
       "      <td>92</td>\n",
       "      <td>539</td>\n",
       "      <td>134</td>\n",
       "      <td>92</td>\n",
       "    </tr>\n",
       "    <tr>\n",
       "      <th>496</th>\n",
       "      <td>496</td>\n",
       "      <td>Kobe Bryant</td>\n",
       "      <td>LAL</td>\n",
       "      <td>19.0</td>\n",
       "      <td>200.66</td>\n",
       "      <td>95.25432</td>\n",
       "      <td>NaN</td>\n",
       "      <td>USA</td>\n",
       "      <td>1996</td>\n",
       "      <td>1</td>\n",
       "      <td>...</td>\n",
       "      <td>0.548</td>\n",
       "      <td>0.165</td>\n",
       "      <td>1997-98</td>\n",
       "      <td>1997</td>\n",
       "      <td>1216</td>\n",
       "      <td>244</td>\n",
       "      <td>197</td>\n",
       "      <td>1755</td>\n",
       "      <td>378</td>\n",
       "      <td>289</td>\n",
       "    </tr>\n",
       "    <tr>\n",
       "      <th>1225</th>\n",
       "      <td>1225</td>\n",
       "      <td>Kobe Bryant</td>\n",
       "      <td>LAL</td>\n",
       "      <td>20.0</td>\n",
       "      <td>200.66</td>\n",
       "      <td>97.52228</td>\n",
       "      <td>NaN</td>\n",
       "      <td>USA</td>\n",
       "      <td>1996</td>\n",
       "      <td>1</td>\n",
       "      <td>...</td>\n",
       "      <td>0.549</td>\n",
       "      <td>0.176</td>\n",
       "      <td>1998-99</td>\n",
       "      <td>1998</td>\n",
       "      <td>994</td>\n",
       "      <td>265</td>\n",
       "      <td>190</td>\n",
       "      <td>2749</td>\n",
       "      <td>643</td>\n",
       "      <td>479</td>\n",
       "    </tr>\n",
       "    <tr>\n",
       "      <th>1413</th>\n",
       "      <td>1413</td>\n",
       "      <td>Kobe Bryant</td>\n",
       "      <td>LAL</td>\n",
       "      <td>21.0</td>\n",
       "      <td>200.66</td>\n",
       "      <td>95.25432</td>\n",
       "      <td>NaN</td>\n",
       "      <td>USA</td>\n",
       "      <td>1996</td>\n",
       "      <td>1</td>\n",
       "      <td>...</td>\n",
       "      <td>0.546</td>\n",
       "      <td>0.215</td>\n",
       "      <td>1999-00</td>\n",
       "      <td>1999</td>\n",
       "      <td>1485</td>\n",
       "      <td>415</td>\n",
       "      <td>323</td>\n",
       "      <td>4234</td>\n",
       "      <td>1058</td>\n",
       "      <td>802</td>\n",
       "    </tr>\n",
       "    <tr>\n",
       "      <th>1882</th>\n",
       "      <td>1882</td>\n",
       "      <td>Kobe Bryant</td>\n",
       "      <td>LAL</td>\n",
       "      <td>22.0</td>\n",
       "      <td>200.66</td>\n",
       "      <td>95.25432</td>\n",
       "      <td>NaN</td>\n",
       "      <td>USA</td>\n",
       "      <td>1996</td>\n",
       "      <td>1</td>\n",
       "      <td>...</td>\n",
       "      <td>0.552</td>\n",
       "      <td>0.220</td>\n",
       "      <td>2000-01</td>\n",
       "      <td>2000</td>\n",
       "      <td>1938</td>\n",
       "      <td>401</td>\n",
       "      <td>340</td>\n",
       "      <td>6172</td>\n",
       "      <td>1459</td>\n",
       "      <td>1142</td>\n",
       "    </tr>\n",
       "  </tbody>\n",
       "</table>\n",
       "<p>5 rows × 29 columns</p>\n",
       "</div>"
      ],
      "text/plain": [
       "      Unnamed: 0         name team   age  height    weight college country  \\\n",
       "334          334  Kobe Bryant  LAL  18.0  200.66  90.71840     NaN     USA   \n",
       "496          496  Kobe Bryant  LAL  19.0  200.66  95.25432     NaN     USA   \n",
       "1225        1225  Kobe Bryant  LAL  20.0  200.66  97.52228     NaN     USA   \n",
       "1413        1413  Kobe Bryant  LAL  21.0  200.66  95.25432     NaN     USA   \n",
       "1882        1882  Kobe Bryant  LAL  22.0  200.66  95.25432     NaN     USA   \n",
       "\n",
       "     draft_year draft_round  ... ts_pct  ast_pct   season  year   pts  reb  \\\n",
       "334        1996           1  ...  0.544    0.144  1996-97  1996   539  134   \n",
       "496        1996           1  ...  0.548    0.165  1997-98  1997  1216  244   \n",
       "1225       1996           1  ...  0.549    0.176  1998-99  1998   994  265   \n",
       "1413       1996           1  ...  0.546    0.215  1999-00  1999  1485  415   \n",
       "1882       1996           1  ...  0.552    0.220  2000-01  2000  1938  401   \n",
       "\n",
       "      ast  total_pts  total_reb  total_ast  \n",
       "334    92        539        134         92  \n",
       "496   197       1755        378        289  \n",
       "1225  190       2749        643        479  \n",
       "1413  323       4234       1058        802  \n",
       "1882  340       6172       1459       1142  \n",
       "\n",
       "[5 rows x 29 columns]"
      ]
     },
     "execution_count": 5,
     "metadata": {},
     "output_type": "execute_result"
    }
   ],
   "source": [
    "df['total_pts'] = df.groupby('name')['pts'].cumsum()\n",
    "df['total_reb'] = df.groupby('name')['reb'].cumsum()\n",
    "df['total_ast'] = df.groupby('name')['ast'].cumsum()\n",
    "df[df['name']=='Kobe Bryant'].head()"
   ]
  },
  {
   "cell_type": "markdown",
   "metadata": {},
   "source": [
    "> 然后，我又添加了三列，分别是累计得分、篮板和助攻。 （请参阅最后三列。）"
   ]
  },
  {
   "cell_type": "code",
   "execution_count": 6,
   "metadata": {},
   "outputs": [],
   "source": [
    "import bubbly\n",
    "from bubbly.bubbly import bubbleplot \n",
    "from plotly.offline import init_notebook_mode, iplot\n",
    "\n",
    "import warnings\n",
    "warnings.filterwarnings('ignore')"
   ]
  },
  {
   "cell_type": "markdown",
   "metadata": {},
   "source": [
    "> 选出最佳得分手的名字"
   ]
  },
  {
   "cell_type": "code",
   "execution_count": 7,
   "metadata": {},
   "outputs": [
    {
     "data": {
      "text/plain": [
       "Index(['LeBron James', 'Kobe Bryant', 'Dirk Nowitzki', 'Carmelo Anthony',\n",
       "       'Kevin Durant', 'Tim Duncan', 'Paul Pierce', 'Vince Carter',\n",
       "       'Kevin Garnett', 'James Harden'],\n",
       "      dtype='object', name='name')"
      ]
     },
     "execution_count": 7,
     "metadata": {},
     "output_type": "execute_result"
    }
   ],
   "source": [
    "NumTopScorers = 10\n",
    "top_scorers_names = df.groupby(['name'])['pts'].sum().sort_values(ascending=False).index[:NumTopScorers]\n",
    "top_scorers_names"
   ]
  },
  {
   "cell_type": "code",
   "execution_count": 8,
   "metadata": {},
   "outputs": [
    {
     "data": {
      "text/html": [
       "<div>\n",
       "<style scoped>\n",
       "    .dataframe tbody tr th:only-of-type {\n",
       "        vertical-align: middle;\n",
       "    }\n",
       "\n",
       "    .dataframe tbody tr th {\n",
       "        vertical-align: top;\n",
       "    }\n",
       "\n",
       "    .dataframe thead th {\n",
       "        text-align: right;\n",
       "    }\n",
       "</style>\n",
       "<table border=\"1\" class=\"dataframe\">\n",
       "  <thead>\n",
       "    <tr style=\"text-align: right;\">\n",
       "      <th></th>\n",
       "      <th>name</th>\n",
       "      <th>team</th>\n",
       "      <th>age</th>\n",
       "      <th>draft_year</th>\n",
       "      <th>year</th>\n",
       "      <th>total_pts</th>\n",
       "      <th>total_ast</th>\n",
       "      <th>total_reb</th>\n",
       "    </tr>\n",
       "  </thead>\n",
       "  <tbody>\n",
       "    <tr>\n",
       "      <th>7576</th>\n",
       "      <td>Kobe Bryant</td>\n",
       "      <td>LAL</td>\n",
       "      <td>34.0</td>\n",
       "      <td>1996</td>\n",
       "      <td>2012</td>\n",
       "      <td>31603</td>\n",
       "      <td>5894</td>\n",
       "      <td>6575</td>\n",
       "    </tr>\n",
       "    <tr>\n",
       "      <th>8021</th>\n",
       "      <td>Kobe Bryant</td>\n",
       "      <td>LAL</td>\n",
       "      <td>35.0</td>\n",
       "      <td>1996</td>\n",
       "      <td>2013</td>\n",
       "      <td>31685</td>\n",
       "      <td>5931</td>\n",
       "      <td>6600</td>\n",
       "    </tr>\n",
       "    <tr>\n",
       "      <th>8516</th>\n",
       "      <td>Kobe Bryant</td>\n",
       "      <td>LAL</td>\n",
       "      <td>36.0</td>\n",
       "      <td>1996</td>\n",
       "      <td>2014</td>\n",
       "      <td>32465</td>\n",
       "      <td>6127</td>\n",
       "      <td>6799</td>\n",
       "    </tr>\n",
       "    <tr>\n",
       "      <th>8961</th>\n",
       "      <td>Kobe Bryant</td>\n",
       "      <td>LAL</td>\n",
       "      <td>37.0</td>\n",
       "      <td>1996</td>\n",
       "      <td>2015</td>\n",
       "      <td>33626</td>\n",
       "      <td>6311</td>\n",
       "      <td>7043</td>\n",
       "    </tr>\n",
       "    <tr>\n",
       "      <th>0</th>\n",
       "      <td>Kobe Bryant</td>\n",
       "      <td>LAL</td>\n",
       "      <td>37.0</td>\n",
       "      <td>1996</td>\n",
       "      <td>2016</td>\n",
       "      <td>33626</td>\n",
       "      <td>6311</td>\n",
       "      <td>7043</td>\n",
       "    </tr>\n",
       "    <tr>\n",
       "      <th>1</th>\n",
       "      <td>Kobe Bryant</td>\n",
       "      <td>LAL</td>\n",
       "      <td>37.0</td>\n",
       "      <td>1996</td>\n",
       "      <td>2017</td>\n",
       "      <td>33626</td>\n",
       "      <td>6311</td>\n",
       "      <td>7043</td>\n",
       "    </tr>\n",
       "    <tr>\n",
       "      <th>2</th>\n",
       "      <td>Kobe Bryant</td>\n",
       "      <td>LAL</td>\n",
       "      <td>37.0</td>\n",
       "      <td>1996</td>\n",
       "      <td>2018</td>\n",
       "      <td>33626</td>\n",
       "      <td>6311</td>\n",
       "      <td>7043</td>\n",
       "    </tr>\n",
       "    <tr>\n",
       "      <th>3</th>\n",
       "      <td>Kobe Bryant</td>\n",
       "      <td>LAL</td>\n",
       "      <td>37.0</td>\n",
       "      <td>1996</td>\n",
       "      <td>2019</td>\n",
       "      <td>33626</td>\n",
       "      <td>6311</td>\n",
       "      <td>7043</td>\n",
       "    </tr>\n",
       "    <tr>\n",
       "      <th>4</th>\n",
       "      <td>Kobe Bryant</td>\n",
       "      <td>LAL</td>\n",
       "      <td>37.0</td>\n",
       "      <td>1996</td>\n",
       "      <td>2020</td>\n",
       "      <td>33626</td>\n",
       "      <td>6311</td>\n",
       "      <td>7043</td>\n",
       "    </tr>\n",
       "    <tr>\n",
       "      <th>5</th>\n",
       "      <td>Kobe Bryant</td>\n",
       "      <td>LAL</td>\n",
       "      <td>37.0</td>\n",
       "      <td>1996</td>\n",
       "      <td>2021</td>\n",
       "      <td>33626</td>\n",
       "      <td>6311</td>\n",
       "      <td>7043</td>\n",
       "    </tr>\n",
       "  </tbody>\n",
       "</table>\n",
       "</div>"
      ],
      "text/plain": [
       "             name team   age draft_year  year  total_pts  total_ast  total_reb\n",
       "7576  Kobe Bryant  LAL  34.0       1996  2012      31603       5894       6575\n",
       "8021  Kobe Bryant  LAL  35.0       1996  2013      31685       5931       6600\n",
       "8516  Kobe Bryant  LAL  36.0       1996  2014      32465       6127       6799\n",
       "8961  Kobe Bryant  LAL  37.0       1996  2015      33626       6311       7043\n",
       "0     Kobe Bryant  LAL  37.0       1996  2016      33626       6311       7043\n",
       "1     Kobe Bryant  LAL  37.0       1996  2017      33626       6311       7043\n",
       "2     Kobe Bryant  LAL  37.0       1996  2018      33626       6311       7043\n",
       "3     Kobe Bryant  LAL  37.0       1996  2019      33626       6311       7043\n",
       "4     Kobe Bryant  LAL  37.0       1996  2020      33626       6311       7043\n",
       "5     Kobe Bryant  LAL  37.0       1996  2021      33626       6311       7043"
      ]
     },
     "execution_count": 8,
     "metadata": {},
     "output_type": "execute_result"
    }
   ],
   "source": [
    "topp = df[df['name'].isin(top_scorers_names)][['name', 'team', 'age', 'draft_year', 'year', 'total_pts', 'total_ast', 'total_reb']].copy()\n",
    "\n",
    "for p in top_scorers_names:\n",
    "    first_year = topp[topp['name']==p]['year'].min()\n",
    "    fill_missing_years = []\n",
    "    last_row = topp[(topp['name']==p) & (topp['year']==first_year)].to_dict('records')[0]\n",
    "    for y in range(1996+1, 2021+1):\n",
    "        if y<first_year: continue\n",
    "        query = topp[(topp['name']==p) & (topp['year']==y)]\n",
    "        if query.empty: # no data in year 'y' is found\n",
    "            row = last_row.copy()\n",
    "            row['year'] = y\n",
    "            fill_missing_years.append(row)\n",
    "        else:\n",
    "            last_row = query.to_dict('records')[0]\n",
    "    topp = pd.concat([topp, pd.DataFrame(fill_missing_years)])\n",
    "\n",
    "topp[topp['name']=='Kobe Bryant'].tail(10)"
   ]
  },
  {
   "cell_type": "markdown",
   "metadata": {},
   "source": [
    ">为了使动画流畅，需要让所有选手的数据行数相同（即每个选手都没有缺失年份）。 如果一个球员一年没有数据，我就用上一年的数据来填写.以科比为例。 他在2015-16赛季结束后退役。 因此，我将 2015 年的数据复制到 2016-2021 年。\n",
    "\n",
    ">如果不做这一步，有些年份没有数据时，玩家的气泡就会消失，导致动画看起来很糟糕。"
   ]
  },
  {
   "cell_type": "code",
   "execution_count": 9,
   "metadata": {},
   "outputs": [
    {
     "data": {
      "text/html": [
       "<div>\n",
       "<style scoped>\n",
       "    .dataframe tbody tr th:only-of-type {\n",
       "        vertical-align: middle;\n",
       "    }\n",
       "\n",
       "    .dataframe tbody tr th {\n",
       "        vertical-align: top;\n",
       "    }\n",
       "\n",
       "    .dataframe thead th {\n",
       "        text-align: right;\n",
       "    }\n",
       "</style>\n",
       "<table border=\"1\" class=\"dataframe\">\n",
       "  <thead>\n",
       "    <tr style=\"text-align: right;\">\n",
       "      <th></th>\n",
       "      <th>name</th>\n",
       "      <th>team</th>\n",
       "      <th>age</th>\n",
       "      <th>draft_year</th>\n",
       "      <th>year</th>\n",
       "      <th>total_pts</th>\n",
       "      <th>total_ast</th>\n",
       "      <th>total_reb</th>\n",
       "    </tr>\n",
       "  </thead>\n",
       "  <tbody>\n",
       "    <tr>\n",
       "      <th>10505</th>\n",
       "      <td>Kevin Durant</td>\n",
       "      <td>GSW</td>\n",
       "      <td>30.0</td>\n",
       "      <td>2007</td>\n",
       "      <td>2018</td>\n",
       "      <td>22934</td>\n",
       "      <td>3480</td>\n",
       "      <td>5995</td>\n",
       "    </tr>\n",
       "    <tr>\n",
       "      <th>11568</th>\n",
       "      <td>Kevin Durant</td>\n",
       "      <td>BKN</td>\n",
       "      <td>32.0</td>\n",
       "      <td>2007</td>\n",
       "      <td>2020</td>\n",
       "      <td>23875</td>\n",
       "      <td>3676</td>\n",
       "      <td>6243</td>\n",
       "    </tr>\n",
       "    <tr>\n",
       "      <th>12189</th>\n",
       "      <td>Kevin Durant</td>\n",
       "      <td>BKN</td>\n",
       "      <td>33.0</td>\n",
       "      <td>2007</td>\n",
       "      <td>2021</td>\n",
       "      <td>25519</td>\n",
       "      <td>4028</td>\n",
       "      <td>6650</td>\n",
       "    </tr>\n",
       "    <tr>\n",
       "      <th>12663</th>\n",
       "      <td>Kevin Durant</td>\n",
       "      <td>PHX</td>\n",
       "      <td>34.0</td>\n",
       "      <td>2007</td>\n",
       "      <td>2022</td>\n",
       "      <td>26886</td>\n",
       "      <td>4263</td>\n",
       "      <td>6964</td>\n",
       "    </tr>\n",
       "    <tr>\n",
       "      <th>0</th>\n",
       "      <td>Kevin Durant</td>\n",
       "      <td>GSW</td>\n",
       "      <td>30.0</td>\n",
       "      <td>2007</td>\n",
       "      <td>2019</td>\n",
       "      <td>22934</td>\n",
       "      <td>3480</td>\n",
       "      <td>5995</td>\n",
       "    </tr>\n",
       "  </tbody>\n",
       "</table>\n",
       "</div>"
      ],
      "text/plain": [
       "               name team   age draft_year  year  total_pts  total_ast  \\\n",
       "10505  Kevin Durant  GSW  30.0       2007  2018      22934       3480   \n",
       "11568  Kevin Durant  BKN  32.0       2007  2020      23875       3676   \n",
       "12189  Kevin Durant  BKN  33.0       2007  2021      25519       4028   \n",
       "12663  Kevin Durant  PHX  34.0       2007  2022      26886       4263   \n",
       "0      Kevin Durant  GSW  30.0       2007  2019      22934       3480   \n",
       "\n",
       "       total_reb  \n",
       "10505       5995  \n",
       "11568       6243  \n",
       "12189       6650  \n",
       "12663       6964  \n",
       "0           5995  "
      ]
     },
     "execution_count": 9,
     "metadata": {},
     "output_type": "execute_result"
    }
   ],
   "source": [
    "topp[topp['name']=='Kevin Durant'].tail()"
   ]
  },
  {
   "cell_type": "markdown",
   "metadata": {},
   "source": [
    "> 杜兰特为例，通过复制 2018 年的行来添加 2019 年的一行。"
   ]
  },
  {
   "cell_type": "code",
   "execution_count": 10,
   "metadata": {},
   "outputs": [],
   "source": [
    "topp.sort_values(['draft_year', 'name', 'year'], inplace=True)"
   ]
  },
  {
   "cell_type": "markdown",
   "metadata": {},
   "source": [
    "> 最后确保\n",
    "> 玩家数据按时间顺序排列\n",
    "> 每年球员数据按相同顺序排列"
   ]
  },
  {
   "cell_type": "code",
   "execution_count": 14,
   "metadata": {},
   "outputs": [
    {
     "data": {
      "application/vnd.plotly.v1+json": {
       "config": {
        "linkText": "Export to plot.ly",
        "plotlyServerURL": "https://plot.ly",
        "scrollzoom": true,
        "showLink": false
       },
       "data": [
        {
         "marker": {
          "size": [
           1309,
           539
          ],
          "sizemode": "area",
          "sizeref": 4.025104166666667
         },
         "mode": "markers",
         "text": [
          "Kevin Garnett",
          "Kobe Bryant"
         ],
         "type": "scatter",
         "x": [
          238,
          92
         ],
         "y": [
          616,
          134
         ]
        }
       ],
       "frames": [
        {
         "data": [
          {
           "marker": {
            "size": [
             1309,
             539
            ],
            "sizemode": "area",
            "sizeref": 4.025104166666667
           },
           "mode": "markers",
           "text": [
            "Kevin Garnett",
            "Kobe Bryant"
           ],
           "type": "scatter",
           "x": [
            238,
            92
           ],
           "y": [
            616,
            134
           ]
          }
         ],
         "name": "1996"
        },
        {
         "data": [
          {
           "marker": {
            "size": [
             2826,
             1755,
             1730
            ],
            "sizemode": "area",
            "sizeref": 4.025104166666667
           },
           "mode": "markers",
           "text": [
            "Kevin Garnett",
            "Kobe Bryant",
            "Tim Duncan"
           ],
           "type": "scatter",
           "x": [
            582,
            289,
            221
           ],
           "y": [
            1403,
            378,
            975
           ]
          }
         ],
         "name": "1997"
        },
        {
         "data": [
          {
           "marker": {
            "size": [
             3803,
             2749,
             2815,
             385,
             792,
             915
            ],
            "sizemode": "area",
            "sizeref": 4.025104166666667
           },
           "mode": "markers",
           "text": [
            "Kevin Garnett",
            "Kobe Bryant",
            "Tim Duncan",
            "Dirk Nowitzki",
            "Paul Pierce",
            "Vince Carter"
           ],
           "type": "scatter",
           "x": [
            784,
            479,
            341,
            47,
            115,
            150
           ],
           "y": [
            1891,
            643,
            1545,
            159,
            307,
            285
           ]
          }
         ],
         "name": "1998"
        },
        {
         "data": [
          {
           "marker": {
            "size": [
             5657,
             4234,
             4531,
             1820,
             2215,
             3022
            ],
            "sizemode": "area",
            "sizeref": 4.025104166666667
           },
           "mode": "markers",
           "text": [
            "Kevin Garnett",
            "Kobe Bryant",
            "Tim Duncan",
            "Dirk Nowitzki",
            "Paul Pierce",
            "Vince Carter"
           ],
           "type": "scatter",
           "x": [
            1189,
            802,
            577,
            252,
            334,
            469
           ],
           "y": [
            2846,
            1058,
            2462,
            692,
            701,
            760
           ]
          }
         ],
         "name": "1999"
        },
        {
         "data": [
          {
           "marker": {
            "size": [
             7439,
             6172,
             6351,
             3607,
             4289,
             5092
            ],
            "sizemode": "area",
            "sizeref": 4.025104166666667
           },
           "mode": "markers",
           "text": [
            "Kevin Garnett",
            "Kobe Bryant",
            "Tim Duncan",
            "Dirk Nowitzki",
            "Paul Pierce",
            "Vince Carter"
           ],
           "type": "scatter",
           "x": [
            1594,
            1142,
            823,
            424,
            588,
            761
           ],
           "y": [
            3769,
            1459,
            3462,
            1446,
            1225,
            1172
           ]
          }
         ],
         "name": "2000"
        },
        {
         "data": [
          {
           "marker": {
            "size": [
             9156,
             8188,
             8442,
             5385,
             6429,
             6574
            ],
            "sizemode": "area",
            "sizeref": 4.025104166666667
           },
           "mode": "markers",
           "text": [
            "Kevin Garnett",
            "Kobe Bryant",
            "Tim Duncan",
            "Dirk Nowitzki",
            "Paul Pierce",
            "Vince Carter"
           ],
           "type": "scatter",
           "x": [
            2015,
            1582,
            1126,
            606,
            850,
            1001
           ],
           "y": [
            4749,
            1899,
            4503,
            2198,
            1790,
            1484
           ]
          }
         ],
         "name": "2001"
        },
        {
         "data": [
          {
           "marker": {
            "size": [
             11042,
             10648,
             10329,
             7393,
             8475,
             7459
            ],
            "sizemode": "area",
            "sizeref": 4.025104166666667
           },
           "mode": "markers",
           "text": [
            "Kevin Garnett",
            "Kobe Bryant",
            "Tim Duncan",
            "Dirk Nowitzki",
            "Paul Pierce",
            "Vince Carter"
           ],
           "type": "scatter",
           "x": [
            2507,
            2065,
            1441,
            846,
            1197,
            1142
           ],
           "y": [
            5847,
            2464,
            5547,
            2990,
            2366,
            1673
           ]
          }
         ],
         "name": "2002"
        },
        {
         "data": [
          {
           "marker": {
            "size": [
             13026,
             12208,
             11867,
             9071,
             10315,
             9101,
             1722,
             1651
            ],
            "sizemode": "area",
            "sizeref": 4.025104166666667
           },
           "mode": "markers",
           "text": [
            "Kevin Garnett",
            "Kobe Bryant",
            "Tim Duncan",
            "Dirk Nowitzki",
            "Paul Pierce",
            "Vince Carter",
            "Carmelo Anthony",
            "LeBron James"
           ],
           "type": "scatter",
           "x": [
            2917,
            2396,
            1654,
            1053,
            1605,
            1492,
            229,
            466
           ],
           "y": [
            6986,
            2821,
            6402,
            3659,
            2886,
            2023,
            500,
            434
           ]
          }
         ],
         "name": "2003"
        },
        {
         "data": [
          {
           "marker": {
            "size": [
             14846,
             14029,
             13206,
             11106,
             12086,
             10987,
             3282,
             3827
            ],
            "sizemode": "area",
            "sizeref": 4.025104166666667
           },
           "mode": "markers",
           "text": [
            "Kevin Garnett",
            "Kobe Bryant",
            "Tim Duncan",
            "Dirk Nowitzki",
            "Paul Pierce",
            "Vince Carter",
            "Carmelo Anthony",
            "LeBron James"
           ],
           "type": "scatter",
           "x": [
            3384,
            2792,
            1832,
            1294,
            1949,
            1815,
            424,
            1042
           ],
           "y": [
            8093,
            3210,
            7134,
            4415,
            3427,
            2423,
            927,
            1026
           ]
          }
         ],
         "name": "2004"
        },
        {
         "data": [
          {
           "marker": {
            "size": [
             16502,
             16861,
             14694,
             13260,
             14203,
             12898,
             5402,
             6307
            ],
            "sizemode": "area",
            "sizeref": 4.025104166666667
           },
           "mode": "markers",
           "text": [
            "Kevin Garnett",
            "Kobe Bryant",
            "Tim Duncan",
            "Dirk Nowitzki",
            "Paul Pierce",
            "Vince Carter",
            "Carmelo Anthony",
            "LeBron James"
           ],
           "type": "scatter",
           "x": [
            3695,
            3152,
            2088,
            1520,
            2320,
            2154,
            640,
            1563
           ],
           "y": [
            9058,
            3634,
            8014,
            5144,
            3956,
            2881,
            1319,
            1579
           ]
          }
         ],
         "name": "2005"
        },
        {
         "data": [
          {
           "marker": {
            "size": [
             18204,
             19294,
             16294,
             15178,
             15378,
             14964,
             7280,
             8436
            ],
            "sizemode": "area",
            "sizeref": 4.025104166666667
           },
           "mode": "markers",
           "text": [
            "Kevin Garnett",
            "Kobe Bryant",
            "Tim Duncan",
            "Dirk Nowitzki",
            "Paul Pierce",
            "Vince Carter",
            "Carmelo Anthony",
            "LeBron James"
           ],
           "type": "scatter",
           "x": [
            4006,
            3567,
            2360,
            1785,
            2512,
            2547,
            887,
            2031
           ],
           "y": [
            10030,
            4072,
            8862,
            5838,
            4233,
            3373,
            1709,
            2101
           ]
          }
         ],
         "name": "2006"
        },
        {
         "data": [
          {
           "marker": {
            "size": [
             19538,
             21614,
             17799,
             16995,
             16946,
             16582,
             9258,
             10686,
             1624
            ],
            "sizemode": "area",
            "sizeref": 4.025104166666667
           },
           "mode": "markers",
           "text": [
            "Kevin Garnett",
            "Kobe Bryant",
            "Tim Duncan",
            "Dirk Nowitzki",
            "Paul Pierce",
            "Vince Carter",
            "Carmelo Anthony",
            "LeBron James",
            "Kevin Durant"
           ],
           "type": "scatter",
           "x": [
            4247,
            4009,
            2578,
            2054,
            2872,
            2934,
            1148,
            2571,
            192
           ],
           "y": [
            10683,
            4588,
            9743,
            6500,
            4641,
            3829,
            2278,
            2693,
            352
           ]
          }
         ],
         "name": "2007"
        },
        {
         "data": [
          {
           "marker": {
            "size": [
             20438,
             23811,
             19246,
             19092,
             18606,
             18246,
             10762,
             12986,
             3496
            ],
            "sizemode": "area",
            "sizeref": 4.025104166666667
           },
           "mode": "markers",
           "text": [
            "Kevin Garnett",
            "Kobe Bryant",
            "Tim Duncan",
            "Dirk Nowitzki",
            "Paul Pierce",
            "Vince Carter",
            "Carmelo Anthony",
            "LeBron James",
            "Kevin Durant"
           ],
           "type": "scatter",
           "x": [
            4389,
            4410,
            2840,
            2248,
            3163,
            3310,
            1372,
            3154,
            399
           ],
           "y": [
            11167,
            5014,
            10545,
            7180,
            5094,
            4237,
            2726,
            3308,
            833
           ]
          }
         ],
         "name": "2008"
        },
        {
         "data": [
          {
           "marker": {
            "size": [
             21424,
             25782,
             20642,
             21117,
             19905,
             19491,
             12707,
             15243,
             5964,
             752
            ],
            "sizemode": "area",
            "sizeref": 4.025104166666667
           },
           "mode": "markers",
           "text": [
            "Kevin Garnett",
            "Kobe Bryant",
            "Tim Duncan",
            "Dirk Nowitzki",
            "Paul Pierce",
            "Vince Carter",
            "Carmelo Anthony",
            "LeBron James",
            "Kevin Durant",
            "James Harden"
           ],
           "type": "scatter",
           "x": [
            4575,
            4775,
            3089,
            2466,
            3383,
            3542,
            1592,
            3807,
            628,
            136
           ],
           "y": [
            11670,
            5408,
            11332,
            7803,
            5406,
            4529,
            3181,
            3862,
            1456,
            243
           ]
          }
         ],
         "name": "2009"
        },
        {
         "data": [
          {
           "marker": {
            "size": [
             22481,
             27856,
             21660,
             22796,
             21417,
             20513,
             14678,
             17352,
             8124,
             1752
            ],
            "sizemode": "area",
            "sizeref": 4.025104166666667
           },
           "mode": "markers",
           "text": [
            "Kevin Garnett",
            "Kobe Bryant",
            "Tim Duncan",
            "Dirk Nowitzki",
            "Paul Pierce",
            "Vince Carter",
            "Carmelo Anthony",
            "LeBron James",
            "Kevin Durant",
            "James Harden"
           ],
           "type": "scatter",
           "x": [
            4745,
            5160,
            3294,
            2655,
            3647,
            3688,
            1815,
            4360,
            838,
            308
           ],
           "y": [
            12301,
            5826,
            12008,
            8314,
            5838,
            4806,
            3743,
            4454,
            1986,
            497
           ]
          }
         ],
         "name": "2010"
        },
        {
         "data": [
          {
           "marker": {
            "size": [
             23429,
             29474,
             22553,
             24135,
             22600,
             21129,
             15921,
             19032,
             9972,
             2793
            ],
            "sizemode": "area",
            "sizeref": 4.025104166666667
           },
           "mode": "markers",
           "text": [
            "Kevin Garnett",
            "Kobe Bryant",
            "Tim Duncan",
            "Dirk Nowitzki",
            "Paul Pierce",
            "Vince Carter",
            "Carmelo Anthony",
            "LeBron James",
            "Kevin Durant",
            "James Harden"
           ],
           "type": "scatter",
           "x": [
            4919,
            5426,
            3427,
            2791,
            3921,
            3828,
            2013,
            4744,
            1069,
            537
           ],
           "y": [
            12792,
            6139,
            12530,
            8729,
            6155,
            5013,
            4089,
            4943,
            2514,
            751
           ]
          }
         ],
         "name": "2011"
        },
        {
         "data": [
          {
           "marker": {
            "size": [
             24435,
             31603,
             23781,
             25051,
             24032,
             22214,
             17843,
             21068,
             12248,
             4813
            ],
            "sizemode": "area",
            "sizeref": 4.025104166666667
           },
           "mode": "markers",
           "text": [
            "Kevin Garnett",
            "Kobe Bryant",
            "Tim Duncan",
            "Dirk Nowitzki",
            "Paul Pierce",
            "Vince Carter",
            "Carmelo Anthony",
            "LeBron James",
            "Kevin Durant",
            "James Harden"
           ],
           "type": "scatter",
           "x": [
            5075,
            5894,
            3613,
            2923,
            4290,
            4022,
            2187,
            5298,
            1441,
            989
           ],
           "y": [
            13322,
            6575,
            13213,
            9089,
            6640,
            5345,
            4551,
            5551,
            3153,
            1133
           ]
          }
         ],
         "name": "2012"
        },
        {
         "data": [
          {
           "marker": {
            "size": [
             24786,
             31685,
             24898,
             26787,
             25044,
             23177,
             19952,
             23154,
             14840,
             6667
            ],
            "sizemode": "area",
            "sizeref": 4.025104166666667
           },
           "mode": "markers",
           "text": [
            "Kevin Garnett",
            "Kobe Bryant",
            "Tim Duncan",
            "Dirk Nowitzki",
            "Paul Pierce",
            "Vince Carter",
            "Carmelo Anthony",
            "LeBron James",
            "Kevin Durant",
            "James Harden"
           ],
           "type": "scatter",
           "x": [
            5156,
            5931,
            3835,
            3139,
            4470,
            4232,
            2425,
            5783,
            1886,
            1434
           ],
           "y": [
            13678,
            6600,
            13930,
            9585,
            6985,
            5628,
            5174,
            6082,
            3752,
            1476
           ]
          }
         ],
         "name": "2013"
        },
        {
         "data": [
          {
           "marker": {
            "size": [
             25110,
             32465,
             25968,
             28119,
             25912,
             23559,
             20920,
             24899,
             15525,
             8886
            ],
            "sizemode": "area",
            "sizeref": 4.025104166666667
           },
           "mode": "markers",
           "text": [
            "Kevin Garnett",
            "Kobe Bryant",
            "Tim Duncan",
            "Dirk Nowitzki",
            "Paul Pierce",
            "Vince Carter",
            "Carmelo Anthony",
            "LeBron James",
            "Kevin Durant",
            "James Harden"
           ],
           "type": "scatter",
           "x": [
            5231,
            6127,
            4066,
            3285,
            4616,
            4311,
            2549,
            6293,
            1996,
            2001
           ],
           "y": [
            13988,
            6799,
            14630,
            10039,
            7277,
            5760,
            5438,
            6496,
            3930,
            1937
           ]
          }
         ],
         "name": "2014"
        },
        {
         "data": [
          {
           "marker": {
            "size": [
             25231,
             33626,
             26492,
             29491,
             26326,
             23955,
             22489,
             26821,
             17555,
             11264
            ],
            "sizemode": "area",
            "sizeref": 4.025104166666667
           },
           "mode": "markers",
           "text": [
            "Kevin Garnett",
            "Kobe Bryant",
            "Tim Duncan",
            "Dirk Nowitzki",
            "Paul Pierce",
            "Vince Carter",
            "Carmelo Anthony",
            "LeBron James",
            "Kevin Durant",
            "James Harden"
           ],
           "type": "scatter",
           "x": [
            5291,
            6311,
            4230,
            3420,
            4684,
            4365,
            2851,
            6809,
            2356,
            2616
           ],
           "y": [
            14136,
            7043,
            15075,
            10526,
            7460,
            5904,
            5992,
            7058,
            4520,
            2437
           ]
          }
         ],
         "name": "2015"
        },
        {
         "data": [
          {
           "marker": {
            "size": [
             25231,
             33626,
             26492,
             30257,
             26406,
             24539,
             24146,
             28774,
             19111,
             13621
            ],
            "sizemode": "area",
            "sizeref": 4.025104166666667
           },
           "mode": "markers",
           "text": [
            "Kevin Garnett",
            "Kobe Bryant",
            "Tim Duncan",
            "Dirk Nowitzki",
            "Paul Pierce",
            "Vince Carter",
            "Carmelo Anthony",
            "LeBron James",
            "Kevin Durant",
            "James Harden"
           ],
           "type": "scatter",
           "x": [
            5291,
            6311,
            4230,
            3501,
            4694,
            4496,
            3065,
            7452,
            2653,
            3523
           ],
           "y": [
            14136,
            7043,
            15075,
            10877,
            7507,
            6130,
            6428,
            7694,
            5034,
            3093
           ]
          }
         ],
         "name": "2016"
        },
        {
         "data": [
          {
           "marker": {
            "size": [
             25231,
             33626,
             26492,
             31181,
             26406,
             24852,
             25409,
             31029,
             20906,
             15809
            ],
            "sizemode": "area",
            "sizeref": 4.025104166666667
           },
           "mode": "markers",
           "text": [
            "Kevin Garnett",
            "Kobe Bryant",
            "Tim Duncan",
            "Dirk Nowitzki",
            "Paul Pierce",
            "Vince Carter",
            "Carmelo Anthony",
            "LeBron James",
            "Kevin Durant",
            "James Harden"
           ],
           "type": "scatter",
           "x": [
            5291,
            6311,
            4230,
            3624,
            4694,
            4565,
            3166,
            8198,
            3020,
            4156
           ],
           "y": [
            14136,
            7043,
            15075,
            11315,
            7507,
            6280,
            6880,
            8399,
            5496,
            3481
           ]
          }
         ],
         "name": "2017"
        },
        {
         "data": [
          {
           "marker": {
            "size": [
             25231,
             33626,
             26492,
             31553,
             26406,
             25414,
             25543,
             32536,
             22934,
             18624
            ],
            "sizemode": "area",
            "sizeref": 4.025104166666667
           },
           "mode": "markers",
           "text": [
            "Kevin Garnett",
            "Kobe Bryant",
            "Tim Duncan",
            "Dirk Nowitzki",
            "Paul Pierce",
            "Vince Carter",
            "Carmelo Anthony",
            "LeBron James",
            "Kevin Durant",
            "James Harden"
           ],
           "type": "scatter",
           "x": [
            5291,
            6311,
            4230,
            3659,
            4694,
            4648,
            3171,
            8654,
            3480,
            4741
           ],
           "y": [
            14136,
            7043,
            15075,
            11473,
            7507,
            6477,
            6934,
            8866,
            5995,
            3995
           ]
          }
         ],
         "name": "2018"
        },
        {
         "data": [
          {
           "marker": {
            "size": [
             25231,
             33626,
             26492,
             31553,
             26406,
             25714,
             26436,
             34231,
             22934,
             20956
            ],
            "sizemode": "area",
            "sizeref": 4.025104166666667
           },
           "mode": "markers",
           "text": [
            "Kevin Garnett",
            "Kobe Bryant",
            "Tim Duncan",
            "Dirk Nowitzki",
            "Paul Pierce",
            "Vince Carter",
            "Carmelo Anthony",
            "LeBron James",
            "Kevin Durant",
            "James Harden"
           ],
           "type": "scatter",
           "x": [
            5291,
            6311,
            4230,
            3659,
            4694,
            4696,
            3258,
            9337,
            3480,
            5251
           ],
           "y": [
            14136,
            7043,
            15075,
            11473,
            7507,
            6603,
            7299,
            9388,
            5995,
            4443
           ]
          }
         ],
         "name": "2019"
        },
        {
         "data": [
          {
           "marker": {
            "size": [
             25231,
             33626,
             26492,
             31553,
             26406,
             25714,
             27360,
             35356,
             23875,
             22038
            ],
            "sizemode": "area",
            "sizeref": 4.025104166666667
           },
           "mode": "markers",
           "text": [
            "Kevin Garnett",
            "Kobe Bryant",
            "Tim Duncan",
            "Dirk Nowitzki",
            "Paul Pierce",
            "Vince Carter",
            "Carmelo Anthony",
            "LeBron James",
            "Kevin Durant",
            "James Harden"
           ],
           "type": "scatter",
           "x": [
            5291,
            6311,
            4230,
            3659,
            4694,
            4696,
            3361,
            9688,
            3676,
            5726
           ],
           "y": [
            14136,
            7043,
            15075,
            11473,
            7507,
            6603,
            7512,
            9734,
            6243,
            4790
           ]
          }
         ],
         "name": "2020"
        },
        {
         "data": [
          {
           "marker": {
            "size": [
             25231,
             33626,
             26492,
             31553,
             26406,
             25714,
             28277,
             37052,
             25519,
             23468
            ],
            "sizemode": "area",
            "sizeref": 4.025104166666667
           },
           "mode": "markers",
           "text": [
            "Kevin Garnett",
            "Kobe Bryant",
            "Tim Duncan",
            "Dirk Nowitzki",
            "Paul Pierce",
            "Vince Carter",
            "Carmelo Anthony",
            "LeBron James",
            "Kevin Durant",
            "James Harden"
           ],
           "type": "scatter",
           "x": [
            5291,
            6311,
            4230,
            3659,
            4694,
            4696,
            3430,
            10035,
            4028,
            6395
           ],
           "y": [
            14136,
            7043,
            15075,
            11473,
            7507,
            6603,
            7801,
            10193,
            6650,
            5290
           ]
          }
         ],
         "name": "2021"
        },
        {
         "data": [
          {
           "marker": {
            "size": [
             38641,
             26886,
             24686
            ],
            "sizemode": "area",
            "sizeref": 4.025104166666667
           },
           "mode": "markers",
           "text": [
            "LeBron James",
            "Kevin Durant",
            "James Harden"
           ],
           "type": "scatter",
           "x": [
            10409,
            4263,
            7015
           ],
           "y": [
            10649,
            6964,
            5643
           ]
          }
         ],
         "name": "2022"
        }
       ],
       "layout": {
        "height": 800,
        "hovermode": "closest",
        "margin": {
         "b": 50,
         "pad": 5,
         "t": 50
        },
        "showlegend": false,
        "sliders": [
         {
          "active": 0,
          "currentvalue": {
           "font": {
            "size": 20
           },
           "prefix": "Year:",
           "visible": true,
           "xanchor": "right"
          },
          "len": 0.9,
          "pad": {
           "b": 10,
           "t": 50
          },
          "steps": [
           {
            "args": [
             [
              1996
             ],
             {
              "frame": {
               "duration": 300,
               "redraw": false
              },
              "mode": "immediate",
              "transition": {
               "duration": 300
              }
             }
            ],
            "label": "1996",
            "method": "animate"
           },
           {
            "args": [
             [
              1997
             ],
             {
              "frame": {
               "duration": 300,
               "redraw": false
              },
              "mode": "immediate",
              "transition": {
               "duration": 300
              }
             }
            ],
            "label": "1997",
            "method": "animate"
           },
           {
            "args": [
             [
              1998
             ],
             {
              "frame": {
               "duration": 300,
               "redraw": false
              },
              "mode": "immediate",
              "transition": {
               "duration": 300
              }
             }
            ],
            "label": "1998",
            "method": "animate"
           },
           {
            "args": [
             [
              1999
             ],
             {
              "frame": {
               "duration": 300,
               "redraw": false
              },
              "mode": "immediate",
              "transition": {
               "duration": 300
              }
             }
            ],
            "label": "1999",
            "method": "animate"
           },
           {
            "args": [
             [
              2000
             ],
             {
              "frame": {
               "duration": 300,
               "redraw": false
              },
              "mode": "immediate",
              "transition": {
               "duration": 300
              }
             }
            ],
            "label": "2000",
            "method": "animate"
           },
           {
            "args": [
             [
              2001
             ],
             {
              "frame": {
               "duration": 300,
               "redraw": false
              },
              "mode": "immediate",
              "transition": {
               "duration": 300
              }
             }
            ],
            "label": "2001",
            "method": "animate"
           },
           {
            "args": [
             [
              2002
             ],
             {
              "frame": {
               "duration": 300,
               "redraw": false
              },
              "mode": "immediate",
              "transition": {
               "duration": 300
              }
             }
            ],
            "label": "2002",
            "method": "animate"
           },
           {
            "args": [
             [
              2003
             ],
             {
              "frame": {
               "duration": 300,
               "redraw": false
              },
              "mode": "immediate",
              "transition": {
               "duration": 300
              }
             }
            ],
            "label": "2003",
            "method": "animate"
           },
           {
            "args": [
             [
              2004
             ],
             {
              "frame": {
               "duration": 300,
               "redraw": false
              },
              "mode": "immediate",
              "transition": {
               "duration": 300
              }
             }
            ],
            "label": "2004",
            "method": "animate"
           },
           {
            "args": [
             [
              2005
             ],
             {
              "frame": {
               "duration": 300,
               "redraw": false
              },
              "mode": "immediate",
              "transition": {
               "duration": 300
              }
             }
            ],
            "label": "2005",
            "method": "animate"
           },
           {
            "args": [
             [
              2006
             ],
             {
              "frame": {
               "duration": 300,
               "redraw": false
              },
              "mode": "immediate",
              "transition": {
               "duration": 300
              }
             }
            ],
            "label": "2006",
            "method": "animate"
           },
           {
            "args": [
             [
              2007
             ],
             {
              "frame": {
               "duration": 300,
               "redraw": false
              },
              "mode": "immediate",
              "transition": {
               "duration": 300
              }
             }
            ],
            "label": "2007",
            "method": "animate"
           },
           {
            "args": [
             [
              2008
             ],
             {
              "frame": {
               "duration": 300,
               "redraw": false
              },
              "mode": "immediate",
              "transition": {
               "duration": 300
              }
             }
            ],
            "label": "2008",
            "method": "animate"
           },
           {
            "args": [
             [
              2009
             ],
             {
              "frame": {
               "duration": 300,
               "redraw": false
              },
              "mode": "immediate",
              "transition": {
               "duration": 300
              }
             }
            ],
            "label": "2009",
            "method": "animate"
           },
           {
            "args": [
             [
              2010
             ],
             {
              "frame": {
               "duration": 300,
               "redraw": false
              },
              "mode": "immediate",
              "transition": {
               "duration": 300
              }
             }
            ],
            "label": "2010",
            "method": "animate"
           },
           {
            "args": [
             [
              2011
             ],
             {
              "frame": {
               "duration": 300,
               "redraw": false
              },
              "mode": "immediate",
              "transition": {
               "duration": 300
              }
             }
            ],
            "label": "2011",
            "method": "animate"
           },
           {
            "args": [
             [
              2012
             ],
             {
              "frame": {
               "duration": 300,
               "redraw": false
              },
              "mode": "immediate",
              "transition": {
               "duration": 300
              }
             }
            ],
            "label": "2012",
            "method": "animate"
           },
           {
            "args": [
             [
              2013
             ],
             {
              "frame": {
               "duration": 300,
               "redraw": false
              },
              "mode": "immediate",
              "transition": {
               "duration": 300
              }
             }
            ],
            "label": "2013",
            "method": "animate"
           },
           {
            "args": [
             [
              2014
             ],
             {
              "frame": {
               "duration": 300,
               "redraw": false
              },
              "mode": "immediate",
              "transition": {
               "duration": 300
              }
             }
            ],
            "label": "2014",
            "method": "animate"
           },
           {
            "args": [
             [
              2015
             ],
             {
              "frame": {
               "duration": 300,
               "redraw": false
              },
              "mode": "immediate",
              "transition": {
               "duration": 300
              }
             }
            ],
            "label": "2015",
            "method": "animate"
           },
           {
            "args": [
             [
              2016
             ],
             {
              "frame": {
               "duration": 300,
               "redraw": false
              },
              "mode": "immediate",
              "transition": {
               "duration": 300
              }
             }
            ],
            "label": "2016",
            "method": "animate"
           },
           {
            "args": [
             [
              2017
             ],
             {
              "frame": {
               "duration": 300,
               "redraw": false
              },
              "mode": "immediate",
              "transition": {
               "duration": 300
              }
             }
            ],
            "label": "2017",
            "method": "animate"
           },
           {
            "args": [
             [
              2018
             ],
             {
              "frame": {
               "duration": 300,
               "redraw": false
              },
              "mode": "immediate",
              "transition": {
               "duration": 300
              }
             }
            ],
            "label": "2018",
            "method": "animate"
           },
           {
            "args": [
             [
              2019
             ],
             {
              "frame": {
               "duration": 300,
               "redraw": false
              },
              "mode": "immediate",
              "transition": {
               "duration": 300
              }
             }
            ],
            "label": "2019",
            "method": "animate"
           },
           {
            "args": [
             [
              2020
             ],
             {
              "frame": {
               "duration": 300,
               "redraw": false
              },
              "mode": "immediate",
              "transition": {
               "duration": 300
              }
             }
            ],
            "label": "2020",
            "method": "animate"
           },
           {
            "args": [
             [
              2021
             ],
             {
              "frame": {
               "duration": 300,
               "redraw": false
              },
              "mode": "immediate",
              "transition": {
               "duration": 300
              }
             }
            ],
            "label": "2021",
            "method": "animate"
           },
           {
            "args": [
             [
              2022
             ],
             {
              "frame": {
               "duration": 300,
               "redraw": false
              },
              "mode": "immediate",
              "transition": {
               "duration": 300
              }
             }
            ],
            "label": "2022",
            "method": "animate"
           }
          ],
          "transition": {
           "duration": 300,
           "easing": "cubic-in-out"
          },
          "x": 0.1,
          "xanchor": "left",
          "y": 0,
          "yanchor": "top"
         }
        ],
        "template": {
         "data": {
          "bar": [
           {
            "error_x": {
             "color": "#2a3f5f"
            },
            "error_y": {
             "color": "#2a3f5f"
            },
            "marker": {
             "line": {
              "color": "#E5ECF6",
              "width": 0.5
             },
             "pattern": {
              "fillmode": "overlay",
              "size": 10,
              "solidity": 0.2
             }
            },
            "type": "bar"
           }
          ],
          "barpolar": [
           {
            "marker": {
             "line": {
              "color": "#E5ECF6",
              "width": 0.5
             },
             "pattern": {
              "fillmode": "overlay",
              "size": 10,
              "solidity": 0.2
             }
            },
            "type": "barpolar"
           }
          ],
          "carpet": [
           {
            "aaxis": {
             "endlinecolor": "#2a3f5f",
             "gridcolor": "white",
             "linecolor": "white",
             "minorgridcolor": "white",
             "startlinecolor": "#2a3f5f"
            },
            "baxis": {
             "endlinecolor": "#2a3f5f",
             "gridcolor": "white",
             "linecolor": "white",
             "minorgridcolor": "white",
             "startlinecolor": "#2a3f5f"
            },
            "type": "carpet"
           }
          ],
          "choropleth": [
           {
            "colorbar": {
             "outlinewidth": 0,
             "ticks": ""
            },
            "type": "choropleth"
           }
          ],
          "contour": [
           {
            "colorbar": {
             "outlinewidth": 0,
             "ticks": ""
            },
            "colorscale": [
             [
              0,
              "#0d0887"
             ],
             [
              0.1111111111111111,
              "#46039f"
             ],
             [
              0.2222222222222222,
              "#7201a8"
             ],
             [
              0.3333333333333333,
              "#9c179e"
             ],
             [
              0.4444444444444444,
              "#bd3786"
             ],
             [
              0.5555555555555556,
              "#d8576b"
             ],
             [
              0.6666666666666666,
              "#ed7953"
             ],
             [
              0.7777777777777778,
              "#fb9f3a"
             ],
             [
              0.8888888888888888,
              "#fdca26"
             ],
             [
              1,
              "#f0f921"
             ]
            ],
            "type": "contour"
           }
          ],
          "contourcarpet": [
           {
            "colorbar": {
             "outlinewidth": 0,
             "ticks": ""
            },
            "type": "contourcarpet"
           }
          ],
          "heatmap": [
           {
            "colorbar": {
             "outlinewidth": 0,
             "ticks": ""
            },
            "colorscale": [
             [
              0,
              "#0d0887"
             ],
             [
              0.1111111111111111,
              "#46039f"
             ],
             [
              0.2222222222222222,
              "#7201a8"
             ],
             [
              0.3333333333333333,
              "#9c179e"
             ],
             [
              0.4444444444444444,
              "#bd3786"
             ],
             [
              0.5555555555555556,
              "#d8576b"
             ],
             [
              0.6666666666666666,
              "#ed7953"
             ],
             [
              0.7777777777777778,
              "#fb9f3a"
             ],
             [
              0.8888888888888888,
              "#fdca26"
             ],
             [
              1,
              "#f0f921"
             ]
            ],
            "type": "heatmap"
           }
          ],
          "heatmapgl": [
           {
            "colorbar": {
             "outlinewidth": 0,
             "ticks": ""
            },
            "colorscale": [
             [
              0,
              "#0d0887"
             ],
             [
              0.1111111111111111,
              "#46039f"
             ],
             [
              0.2222222222222222,
              "#7201a8"
             ],
             [
              0.3333333333333333,
              "#9c179e"
             ],
             [
              0.4444444444444444,
              "#bd3786"
             ],
             [
              0.5555555555555556,
              "#d8576b"
             ],
             [
              0.6666666666666666,
              "#ed7953"
             ],
             [
              0.7777777777777778,
              "#fb9f3a"
             ],
             [
              0.8888888888888888,
              "#fdca26"
             ],
             [
              1,
              "#f0f921"
             ]
            ],
            "type": "heatmapgl"
           }
          ],
          "histogram": [
           {
            "marker": {
             "pattern": {
              "fillmode": "overlay",
              "size": 10,
              "solidity": 0.2
             }
            },
            "type": "histogram"
           }
          ],
          "histogram2d": [
           {
            "colorbar": {
             "outlinewidth": 0,
             "ticks": ""
            },
            "colorscale": [
             [
              0,
              "#0d0887"
             ],
             [
              0.1111111111111111,
              "#46039f"
             ],
             [
              0.2222222222222222,
              "#7201a8"
             ],
             [
              0.3333333333333333,
              "#9c179e"
             ],
             [
              0.4444444444444444,
              "#bd3786"
             ],
             [
              0.5555555555555556,
              "#d8576b"
             ],
             [
              0.6666666666666666,
              "#ed7953"
             ],
             [
              0.7777777777777778,
              "#fb9f3a"
             ],
             [
              0.8888888888888888,
              "#fdca26"
             ],
             [
              1,
              "#f0f921"
             ]
            ],
            "type": "histogram2d"
           }
          ],
          "histogram2dcontour": [
           {
            "colorbar": {
             "outlinewidth": 0,
             "ticks": ""
            },
            "colorscale": [
             [
              0,
              "#0d0887"
             ],
             [
              0.1111111111111111,
              "#46039f"
             ],
             [
              0.2222222222222222,
              "#7201a8"
             ],
             [
              0.3333333333333333,
              "#9c179e"
             ],
             [
              0.4444444444444444,
              "#bd3786"
             ],
             [
              0.5555555555555556,
              "#d8576b"
             ],
             [
              0.6666666666666666,
              "#ed7953"
             ],
             [
              0.7777777777777778,
              "#fb9f3a"
             ],
             [
              0.8888888888888888,
              "#fdca26"
             ],
             [
              1,
              "#f0f921"
             ]
            ],
            "type": "histogram2dcontour"
           }
          ],
          "mesh3d": [
           {
            "colorbar": {
             "outlinewidth": 0,
             "ticks": ""
            },
            "type": "mesh3d"
           }
          ],
          "parcoords": [
           {
            "line": {
             "colorbar": {
              "outlinewidth": 0,
              "ticks": ""
             }
            },
            "type": "parcoords"
           }
          ],
          "pie": [
           {
            "automargin": true,
            "type": "pie"
           }
          ],
          "scatter": [
           {
            "fillpattern": {
             "fillmode": "overlay",
             "size": 10,
             "solidity": 0.2
            },
            "type": "scatter"
           }
          ],
          "scatter3d": [
           {
            "line": {
             "colorbar": {
              "outlinewidth": 0,
              "ticks": ""
             }
            },
            "marker": {
             "colorbar": {
              "outlinewidth": 0,
              "ticks": ""
             }
            },
            "type": "scatter3d"
           }
          ],
          "scattercarpet": [
           {
            "marker": {
             "colorbar": {
              "outlinewidth": 0,
              "ticks": ""
             }
            },
            "type": "scattercarpet"
           }
          ],
          "scattergeo": [
           {
            "marker": {
             "colorbar": {
              "outlinewidth": 0,
              "ticks": ""
             }
            },
            "type": "scattergeo"
           }
          ],
          "scattergl": [
           {
            "marker": {
             "colorbar": {
              "outlinewidth": 0,
              "ticks": ""
             }
            },
            "type": "scattergl"
           }
          ],
          "scattermapbox": [
           {
            "marker": {
             "colorbar": {
              "outlinewidth": 0,
              "ticks": ""
             }
            },
            "type": "scattermapbox"
           }
          ],
          "scatterpolar": [
           {
            "marker": {
             "colorbar": {
              "outlinewidth": 0,
              "ticks": ""
             }
            },
            "type": "scatterpolar"
           }
          ],
          "scatterpolargl": [
           {
            "marker": {
             "colorbar": {
              "outlinewidth": 0,
              "ticks": ""
             }
            },
            "type": "scatterpolargl"
           }
          ],
          "scatterternary": [
           {
            "marker": {
             "colorbar": {
              "outlinewidth": 0,
              "ticks": ""
             }
            },
            "type": "scatterternary"
           }
          ],
          "surface": [
           {
            "colorbar": {
             "outlinewidth": 0,
             "ticks": ""
            },
            "colorscale": [
             [
              0,
              "#0d0887"
             ],
             [
              0.1111111111111111,
              "#46039f"
             ],
             [
              0.2222222222222222,
              "#7201a8"
             ],
             [
              0.3333333333333333,
              "#9c179e"
             ],
             [
              0.4444444444444444,
              "#bd3786"
             ],
             [
              0.5555555555555556,
              "#d8576b"
             ],
             [
              0.6666666666666666,
              "#ed7953"
             ],
             [
              0.7777777777777778,
              "#fb9f3a"
             ],
             [
              0.8888888888888888,
              "#fdca26"
             ],
             [
              1,
              "#f0f921"
             ]
            ],
            "type": "surface"
           }
          ],
          "table": [
           {
            "cells": {
             "fill": {
              "color": "#EBF0F8"
             },
             "line": {
              "color": "white"
             }
            },
            "header": {
             "fill": {
              "color": "#C8D4E3"
             },
             "line": {
              "color": "white"
             }
            },
            "type": "table"
           }
          ]
         },
         "layout": {
          "annotationdefaults": {
           "arrowcolor": "#2a3f5f",
           "arrowhead": 0,
           "arrowwidth": 1
          },
          "autotypenumbers": "strict",
          "coloraxis": {
           "colorbar": {
            "outlinewidth": 0,
            "ticks": ""
           }
          },
          "colorscale": {
           "diverging": [
            [
             0,
             "#8e0152"
            ],
            [
             0.1,
             "#c51b7d"
            ],
            [
             0.2,
             "#de77ae"
            ],
            [
             0.3,
             "#f1b6da"
            ],
            [
             0.4,
             "#fde0ef"
            ],
            [
             0.5,
             "#f7f7f7"
            ],
            [
             0.6,
             "#e6f5d0"
            ],
            [
             0.7,
             "#b8e186"
            ],
            [
             0.8,
             "#7fbc41"
            ],
            [
             0.9,
             "#4d9221"
            ],
            [
             1,
             "#276419"
            ]
           ],
           "sequential": [
            [
             0,
             "#0d0887"
            ],
            [
             0.1111111111111111,
             "#46039f"
            ],
            [
             0.2222222222222222,
             "#7201a8"
            ],
            [
             0.3333333333333333,
             "#9c179e"
            ],
            [
             0.4444444444444444,
             "#bd3786"
            ],
            [
             0.5555555555555556,
             "#d8576b"
            ],
            [
             0.6666666666666666,
             "#ed7953"
            ],
            [
             0.7777777777777778,
             "#fb9f3a"
            ],
            [
             0.8888888888888888,
             "#fdca26"
            ],
            [
             1,
             "#f0f921"
            ]
           ],
           "sequentialminus": [
            [
             0,
             "#0d0887"
            ],
            [
             0.1111111111111111,
             "#46039f"
            ],
            [
             0.2222222222222222,
             "#7201a8"
            ],
            [
             0.3333333333333333,
             "#9c179e"
            ],
            [
             0.4444444444444444,
             "#bd3786"
            ],
            [
             0.5555555555555556,
             "#d8576b"
            ],
            [
             0.6666666666666666,
             "#ed7953"
            ],
            [
             0.7777777777777778,
             "#fb9f3a"
            ],
            [
             0.8888888888888888,
             "#fdca26"
            ],
            [
             1,
             "#f0f921"
            ]
           ]
          },
          "colorway": [
           "#636efa",
           "#EF553B",
           "#00cc96",
           "#ab63fa",
           "#FFA15A",
           "#19d3f3",
           "#FF6692",
           "#B6E880",
           "#FF97FF",
           "#FECB52"
          ],
          "font": {
           "color": "#2a3f5f"
          },
          "geo": {
           "bgcolor": "white",
           "lakecolor": "white",
           "landcolor": "#E5ECF6",
           "showlakes": true,
           "showland": true,
           "subunitcolor": "white"
          },
          "hoverlabel": {
           "align": "left"
          },
          "hovermode": "closest",
          "mapbox": {
           "style": "light"
          },
          "paper_bgcolor": "white",
          "plot_bgcolor": "#E5ECF6",
          "polar": {
           "angularaxis": {
            "gridcolor": "white",
            "linecolor": "white",
            "ticks": ""
           },
           "bgcolor": "#E5ECF6",
           "radialaxis": {
            "gridcolor": "white",
            "linecolor": "white",
            "ticks": ""
           }
          },
          "scene": {
           "xaxis": {
            "backgroundcolor": "#E5ECF6",
            "gridcolor": "white",
            "gridwidth": 2,
            "linecolor": "white",
            "showbackground": true,
            "ticks": "",
            "zerolinecolor": "white"
           },
           "yaxis": {
            "backgroundcolor": "#E5ECF6",
            "gridcolor": "white",
            "gridwidth": 2,
            "linecolor": "white",
            "showbackground": true,
            "ticks": "",
            "zerolinecolor": "white"
           },
           "zaxis": {
            "backgroundcolor": "#E5ECF6",
            "gridcolor": "white",
            "gridwidth": 2,
            "linecolor": "white",
            "showbackground": true,
            "ticks": "",
            "zerolinecolor": "white"
           }
          },
          "shapedefaults": {
           "line": {
            "color": "#2a3f5f"
           }
          },
          "ternary": {
           "aaxis": {
            "gridcolor": "white",
            "linecolor": "white",
            "ticks": ""
           },
           "baxis": {
            "gridcolor": "white",
            "linecolor": "white",
            "ticks": ""
           },
           "bgcolor": "#E5ECF6",
           "caxis": {
            "gridcolor": "white",
            "linecolor": "white",
            "ticks": ""
           }
          },
          "title": {
           "x": 0.05
          },
          "xaxis": {
           "automargin": true,
           "gridcolor": "white",
           "linecolor": "white",
           "ticks": "",
           "title": {
            "standoff": 15
           },
           "zerolinecolor": "white",
           "zerolinewidth": 2
          },
          "yaxis": {
           "automargin": true,
           "gridcolor": "white",
           "linecolor": "white",
           "ticks": "",
           "title": {
            "standoff": 15
           },
           "zerolinecolor": "white",
           "zerolinewidth": 2
          }
         }
        },
        "title": {
         "text": "NBA Top Scorers: 1996 - 2022"
        },
        "updatemenus": [
         {
          "buttons": [
           {
            "args": [
             null,
             {
              "frame": {
               "duration": 500,
               "redraw": false
              },
              "fromcurrent": true,
              "transition": {
               "duration": 300,
               "easing": "quadratic-in-out"
              }
             }
            ],
            "label": "Play",
            "method": "animate"
           },
           {
            "args": [
             [
              null
             ],
             {
              "frame": {
               "duration": 0,
               "redraw": false
              },
              "mode": "immediate",
              "transition": {
               "duration": 0
              }
             }
            ],
            "label": "Pause",
            "method": "animate"
           }
          ],
          "direction": "left",
          "pad": {
           "r": 10,
           "t": 87
          },
          "showactive": false,
          "type": "buttons",
          "x": 0.1,
          "xanchor": "right",
          "y": 0,
          "yanchor": "top"
         }
        ],
        "xaxis": {
         "autorange": false,
         "range": [
          32.9,
          14572.599999999999
         ],
         "title": {
          "text": "total_ast"
         }
        },
        "yaxis": {
         "autorange": false,
         "range": [
          93.8,
          21105
         ],
         "title": {
          "text": "total_reb"
         }
        }
       }
      }
     },
     "metadata": {},
     "output_type": "display_data"
    }
   ],
   "source": [
    "x_axis = 'total_ast'\n",
    "y_axis = 'total_reb'\n",
    "\n",
    "figure = bubbleplot(dataset=topp, x_column=x_axis, y_column=y_axis, \n",
    "    bubble_column='name', time_column='year', size_column='total_pts', \n",
    "    x_title=x_axis, y_title=y_axis, title=f'NBA Top Scorers: 1996 - 2022',\n",
    "    x_logscale=False, scale_bubble=3, height=800)\n",
    "\n",
    "iplot(figure, config={'scrollzoom': True})"
   ]
  },
  {
   "cell_type": "markdown",
   "metadata": {},
   "source": [
    "> 制作动画气泡图\n",
    "> 最后按照bubbly指南中的函数调用实现效果"
   ]
  },
  {
   "cell_type": "code",
   "execution_count": 13,
   "metadata": {},
   "outputs": [
    {
     "data": {
      "application/vnd.plotly.v1+json": {
       "config": {
        "plotlyServerURL": "https://plot.ly"
       },
       "data": [
        {
         "marker": {
          "size": [
           1309,
           539
          ],
          "sizemin": 4,
          "sizemode": "area",
          "sizeref": 1.63625
         },
         "mode": "markers",
         "name": "1996",
         "text": [
          "Kevin Garnett",
          "Kobe Bryant"
         ],
         "type": "scatter",
         "x": [
          238,
          92
         ],
         "y": [
          616,
          134
         ]
        },
        {
         "marker": {
          "size": [
           2826,
           1755,
           1730
          ],
          "sizemin": 4,
          "sizemode": "area",
          "sizeref": 3.5325
         },
         "mode": "markers",
         "name": "1997",
         "text": [
          "Kevin Garnett",
          "Kobe Bryant",
          "Tim Duncan"
         ],
         "type": "scatter",
         "x": [
          582,
          289,
          221
         ],
         "y": [
          1403,
          378,
          975
         ]
        },
        {
         "marker": {
          "size": [
           3803,
           2749,
           2815,
           385,
           792,
           915
          ],
          "sizemin": 4,
          "sizemode": "area",
          "sizeref": 4.75375
         },
         "mode": "markers",
         "name": "1998",
         "text": [
          "Kevin Garnett",
          "Kobe Bryant",
          "Tim Duncan",
          "Dirk Nowitzki",
          "Paul Pierce",
          "Vince Carter"
         ],
         "type": "scatter",
         "x": [
          784,
          479,
          341,
          47,
          115,
          150
         ],
         "y": [
          1891,
          643,
          1545,
          159,
          307,
          285
         ]
        },
        {
         "marker": {
          "size": [
           5657,
           4234,
           4531,
           1820,
           2215,
           3022
          ],
          "sizemin": 4,
          "sizemode": "area",
          "sizeref": 7.07125
         },
         "mode": "markers",
         "name": "1999",
         "text": [
          "Kevin Garnett",
          "Kobe Bryant",
          "Tim Duncan",
          "Dirk Nowitzki",
          "Paul Pierce",
          "Vince Carter"
         ],
         "type": "scatter",
         "x": [
          1189,
          802,
          577,
          252,
          334,
          469
         ],
         "y": [
          2846,
          1058,
          2462,
          692,
          701,
          760
         ]
        },
        {
         "marker": {
          "size": [
           7439,
           6172,
           6351,
           3607,
           4289,
           5092
          ],
          "sizemin": 4,
          "sizemode": "area",
          "sizeref": 9.29875
         },
         "mode": "markers",
         "name": "2000",
         "text": [
          "Kevin Garnett",
          "Kobe Bryant",
          "Tim Duncan",
          "Dirk Nowitzki",
          "Paul Pierce",
          "Vince Carter"
         ],
         "type": "scatter",
         "x": [
          1594,
          1142,
          823,
          424,
          588,
          761
         ],
         "y": [
          3769,
          1459,
          3462,
          1446,
          1225,
          1172
         ]
        },
        {
         "marker": {
          "size": [
           9156,
           8188,
           8442,
           5385,
           6429,
           6574
          ],
          "sizemin": 4,
          "sizemode": "area",
          "sizeref": 11.445
         },
         "mode": "markers",
         "name": "2001",
         "text": [
          "Kevin Garnett",
          "Kobe Bryant",
          "Tim Duncan",
          "Dirk Nowitzki",
          "Paul Pierce",
          "Vince Carter"
         ],
         "type": "scatter",
         "x": [
          2015,
          1582,
          1126,
          606,
          850,
          1001
         ],
         "y": [
          4749,
          1899,
          4503,
          2198,
          1790,
          1484
         ]
        },
        {
         "marker": {
          "size": [
           11042,
           10648,
           10329,
           7393,
           8475,
           7459
          ],
          "sizemin": 4,
          "sizemode": "area",
          "sizeref": 13.8025
         },
         "mode": "markers",
         "name": "2002",
         "text": [
          "Kevin Garnett",
          "Kobe Bryant",
          "Tim Duncan",
          "Dirk Nowitzki",
          "Paul Pierce",
          "Vince Carter"
         ],
         "type": "scatter",
         "x": [
          2507,
          2065,
          1441,
          846,
          1197,
          1142
         ],
         "y": [
          5847,
          2464,
          5547,
          2990,
          2366,
          1673
         ]
        },
        {
         "marker": {
          "size": [
           13026,
           12208,
           11867,
           9071,
           10315,
           9101,
           1722,
           1651
          ],
          "sizemin": 4,
          "sizemode": "area",
          "sizeref": 16.2825
         },
         "mode": "markers",
         "name": "2003",
         "text": [
          "Kevin Garnett",
          "Kobe Bryant",
          "Tim Duncan",
          "Dirk Nowitzki",
          "Paul Pierce",
          "Vince Carter",
          "Carmelo Anthony",
          "LeBron James"
         ],
         "type": "scatter",
         "x": [
          2917,
          2396,
          1654,
          1053,
          1605,
          1492,
          229,
          466
         ],
         "y": [
          6986,
          2821,
          6402,
          3659,
          2886,
          2023,
          500,
          434
         ]
        },
        {
         "marker": {
          "size": [
           14846,
           14029,
           13206,
           11106,
           12086,
           10987,
           3282,
           3827
          ],
          "sizemin": 4,
          "sizemode": "area",
          "sizeref": 18.5575
         },
         "mode": "markers",
         "name": "2004",
         "text": [
          "Kevin Garnett",
          "Kobe Bryant",
          "Tim Duncan",
          "Dirk Nowitzki",
          "Paul Pierce",
          "Vince Carter",
          "Carmelo Anthony",
          "LeBron James"
         ],
         "type": "scatter",
         "x": [
          3384,
          2792,
          1832,
          1294,
          1949,
          1815,
          424,
          1042
         ],
         "y": [
          8093,
          3210,
          7134,
          4415,
          3427,
          2423,
          927,
          1026
         ]
        },
        {
         "marker": {
          "size": [
           16502,
           16861,
           14694,
           13260,
           14203,
           12898,
           5402,
           6307
          ],
          "sizemin": 4,
          "sizemode": "area",
          "sizeref": 21.07625
         },
         "mode": "markers",
         "name": "2005",
         "text": [
          "Kevin Garnett",
          "Kobe Bryant",
          "Tim Duncan",
          "Dirk Nowitzki",
          "Paul Pierce",
          "Vince Carter",
          "Carmelo Anthony",
          "LeBron James"
         ],
         "type": "scatter",
         "x": [
          3695,
          3152,
          2088,
          1520,
          2320,
          2154,
          640,
          1563
         ],
         "y": [
          9058,
          3634,
          8014,
          5144,
          3956,
          2881,
          1319,
          1579
         ]
        },
        {
         "marker": {
          "size": [
           18204,
           19294,
           16294,
           15178,
           15378,
           14964,
           7280,
           8436
          ],
          "sizemin": 4,
          "sizemode": "area",
          "sizeref": 24.1175
         },
         "mode": "markers",
         "name": "2006",
         "text": [
          "Kevin Garnett",
          "Kobe Bryant",
          "Tim Duncan",
          "Dirk Nowitzki",
          "Paul Pierce",
          "Vince Carter",
          "Carmelo Anthony",
          "LeBron James"
         ],
         "type": "scatter",
         "x": [
          4006,
          3567,
          2360,
          1785,
          2512,
          2547,
          887,
          2031
         ],
         "y": [
          10030,
          4072,
          8862,
          5838,
          4233,
          3373,
          1709,
          2101
         ]
        },
        {
         "marker": {
          "size": [
           19538,
           21614,
           17799,
           16995,
           16946,
           16582,
           9258,
           10686,
           1624
          ],
          "sizemin": 4,
          "sizemode": "area",
          "sizeref": 27.0175
         },
         "mode": "markers",
         "name": "2007",
         "text": [
          "Kevin Garnett",
          "Kobe Bryant",
          "Tim Duncan",
          "Dirk Nowitzki",
          "Paul Pierce",
          "Vince Carter",
          "Carmelo Anthony",
          "LeBron James",
          "Kevin Durant"
         ],
         "type": "scatter",
         "x": [
          4247,
          4009,
          2578,
          2054,
          2872,
          2934,
          1148,
          2571,
          192
         ],
         "y": [
          10683,
          4588,
          9743,
          6500,
          4641,
          3829,
          2278,
          2693,
          352
         ]
        },
        {
         "marker": {
          "size": [
           20438,
           23811,
           19246,
           19092,
           18606,
           18246,
           10762,
           12986,
           3496
          ],
          "sizemin": 4,
          "sizemode": "area",
          "sizeref": 29.76375
         },
         "mode": "markers",
         "name": "2008",
         "text": [
          "Kevin Garnett",
          "Kobe Bryant",
          "Tim Duncan",
          "Dirk Nowitzki",
          "Paul Pierce",
          "Vince Carter",
          "Carmelo Anthony",
          "LeBron James",
          "Kevin Durant"
         ],
         "type": "scatter",
         "x": [
          4389,
          4410,
          2840,
          2248,
          3163,
          3310,
          1372,
          3154,
          399
         ],
         "y": [
          11167,
          5014,
          10545,
          7180,
          5094,
          4237,
          2726,
          3308,
          833
         ]
        },
        {
         "marker": {
          "size": [
           21424,
           25782,
           20642,
           21117,
           19905,
           19491,
           12707,
           15243,
           5964,
           752
          ],
          "sizemin": 4,
          "sizemode": "area",
          "sizeref": 32.2275
         },
         "mode": "markers",
         "name": "2009",
         "text": [
          "Kevin Garnett",
          "Kobe Bryant",
          "Tim Duncan",
          "Dirk Nowitzki",
          "Paul Pierce",
          "Vince Carter",
          "Carmelo Anthony",
          "LeBron James",
          "Kevin Durant",
          "James Harden"
         ],
         "type": "scatter",
         "x": [
          4575,
          4775,
          3089,
          2466,
          3383,
          3542,
          1592,
          3807,
          628,
          136
         ],
         "y": [
          11670,
          5408,
          11332,
          7803,
          5406,
          4529,
          3181,
          3862,
          1456,
          243
         ]
        },
        {
         "marker": {
          "size": [
           22481,
           27856,
           21660,
           22796,
           21417,
           20513,
           14678,
           17352,
           8124,
           1752
          ],
          "sizemin": 4,
          "sizemode": "area",
          "sizeref": 34.82
         },
         "mode": "markers",
         "name": "2010",
         "text": [
          "Kevin Garnett",
          "Kobe Bryant",
          "Tim Duncan",
          "Dirk Nowitzki",
          "Paul Pierce",
          "Vince Carter",
          "Carmelo Anthony",
          "LeBron James",
          "Kevin Durant",
          "James Harden"
         ],
         "type": "scatter",
         "x": [
          4745,
          5160,
          3294,
          2655,
          3647,
          3688,
          1815,
          4360,
          838,
          308
         ],
         "y": [
          12301,
          5826,
          12008,
          8314,
          5838,
          4806,
          3743,
          4454,
          1986,
          497
         ]
        },
        {
         "marker": {
          "size": [
           23429,
           29474,
           22553,
           24135,
           22600,
           21129,
           15921,
           19032,
           9972,
           2793
          ],
          "sizemin": 4,
          "sizemode": "area",
          "sizeref": 36.8425
         },
         "mode": "markers",
         "name": "2011",
         "text": [
          "Kevin Garnett",
          "Kobe Bryant",
          "Tim Duncan",
          "Dirk Nowitzki",
          "Paul Pierce",
          "Vince Carter",
          "Carmelo Anthony",
          "LeBron James",
          "Kevin Durant",
          "James Harden"
         ],
         "type": "scatter",
         "x": [
          4919,
          5426,
          3427,
          2791,
          3921,
          3828,
          2013,
          4744,
          1069,
          537
         ],
         "y": [
          12792,
          6139,
          12530,
          8729,
          6155,
          5013,
          4089,
          4943,
          2514,
          751
         ]
        },
        {
         "marker": {
          "size": [
           24435,
           31603,
           23781,
           25051,
           24032,
           22214,
           17843,
           21068,
           12248,
           4813
          ],
          "sizemin": 4,
          "sizemode": "area",
          "sizeref": 39.50375
         },
         "mode": "markers",
         "name": "2012",
         "text": [
          "Kevin Garnett",
          "Kobe Bryant",
          "Tim Duncan",
          "Dirk Nowitzki",
          "Paul Pierce",
          "Vince Carter",
          "Carmelo Anthony",
          "LeBron James",
          "Kevin Durant",
          "James Harden"
         ],
         "type": "scatter",
         "x": [
          5075,
          5894,
          3613,
          2923,
          4290,
          4022,
          2187,
          5298,
          1441,
          989
         ],
         "y": [
          13322,
          6575,
          13213,
          9089,
          6640,
          5345,
          4551,
          5551,
          3153,
          1133
         ]
        },
        {
         "marker": {
          "size": [
           24786,
           31685,
           24898,
           26787,
           25044,
           23177,
           19952,
           23154,
           14840,
           6667
          ],
          "sizemin": 4,
          "sizemode": "area",
          "sizeref": 39.60625
         },
         "mode": "markers",
         "name": "2013",
         "text": [
          "Kevin Garnett",
          "Kobe Bryant",
          "Tim Duncan",
          "Dirk Nowitzki",
          "Paul Pierce",
          "Vince Carter",
          "Carmelo Anthony",
          "LeBron James",
          "Kevin Durant",
          "James Harden"
         ],
         "type": "scatter",
         "x": [
          5156,
          5931,
          3835,
          3139,
          4470,
          4232,
          2425,
          5783,
          1886,
          1434
         ],
         "y": [
          13678,
          6600,
          13930,
          9585,
          6985,
          5628,
          5174,
          6082,
          3752,
          1476
         ]
        },
        {
         "marker": {
          "size": [
           25110,
           32465,
           25968,
           28119,
           25912,
           23559,
           20920,
           24899,
           15525,
           8886
          ],
          "sizemin": 4,
          "sizemode": "area",
          "sizeref": 40.58125
         },
         "mode": "markers",
         "name": "2014",
         "text": [
          "Kevin Garnett",
          "Kobe Bryant",
          "Tim Duncan",
          "Dirk Nowitzki",
          "Paul Pierce",
          "Vince Carter",
          "Carmelo Anthony",
          "LeBron James",
          "Kevin Durant",
          "James Harden"
         ],
         "type": "scatter",
         "x": [
          5231,
          6127,
          4066,
          3285,
          4616,
          4311,
          2549,
          6293,
          1996,
          2001
         ],
         "y": [
          13988,
          6799,
          14630,
          10039,
          7277,
          5760,
          5438,
          6496,
          3930,
          1937
         ]
        },
        {
         "marker": {
          "size": [
           25231,
           33626,
           26492,
           29491,
           26326,
           23955,
           22489,
           26821,
           17555,
           11264
          ],
          "sizemin": 4,
          "sizemode": "area",
          "sizeref": 42.0325
         },
         "mode": "markers",
         "name": "2015",
         "text": [
          "Kevin Garnett",
          "Kobe Bryant",
          "Tim Duncan",
          "Dirk Nowitzki",
          "Paul Pierce",
          "Vince Carter",
          "Carmelo Anthony",
          "LeBron James",
          "Kevin Durant",
          "James Harden"
         ],
         "type": "scatter",
         "x": [
          5291,
          6311,
          4230,
          3420,
          4684,
          4365,
          2851,
          6809,
          2356,
          2616
         ],
         "y": [
          14136,
          7043,
          15075,
          10526,
          7460,
          5904,
          5992,
          7058,
          4520,
          2437
         ]
        },
        {
         "marker": {
          "size": [
           25231,
           33626,
           26492,
           30257,
           26406,
           24539,
           24146,
           28774,
           19111,
           13621
          ],
          "sizemin": 4,
          "sizemode": "area",
          "sizeref": 42.0325
         },
         "mode": "markers",
         "name": "2016",
         "text": [
          "Kevin Garnett",
          "Kobe Bryant",
          "Tim Duncan",
          "Dirk Nowitzki",
          "Paul Pierce",
          "Vince Carter",
          "Carmelo Anthony",
          "LeBron James",
          "Kevin Durant",
          "James Harden"
         ],
         "type": "scatter",
         "x": [
          5291,
          6311,
          4230,
          3501,
          4694,
          4496,
          3065,
          7452,
          2653,
          3523
         ],
         "y": [
          14136,
          7043,
          15075,
          10877,
          7507,
          6130,
          6428,
          7694,
          5034,
          3093
         ]
        },
        {
         "marker": {
          "size": [
           25231,
           33626,
           26492,
           31181,
           26406,
           24852,
           25409,
           31029,
           20906,
           15809
          ],
          "sizemin": 4,
          "sizemode": "area",
          "sizeref": 42.0325
         },
         "mode": "markers",
         "name": "2017",
         "text": [
          "Kevin Garnett",
          "Kobe Bryant",
          "Tim Duncan",
          "Dirk Nowitzki",
          "Paul Pierce",
          "Vince Carter",
          "Carmelo Anthony",
          "LeBron James",
          "Kevin Durant",
          "James Harden"
         ],
         "type": "scatter",
         "x": [
          5291,
          6311,
          4230,
          3624,
          4694,
          4565,
          3166,
          8198,
          3020,
          4156
         ],
         "y": [
          14136,
          7043,
          15075,
          11315,
          7507,
          6280,
          6880,
          8399,
          5496,
          3481
         ]
        },
        {
         "marker": {
          "size": [
           25231,
           33626,
           26492,
           31553,
           26406,
           25414,
           25543,
           32536,
           22934,
           18624
          ],
          "sizemin": 4,
          "sizemode": "area",
          "sizeref": 42.0325
         },
         "mode": "markers",
         "name": "2018",
         "text": [
          "Kevin Garnett",
          "Kobe Bryant",
          "Tim Duncan",
          "Dirk Nowitzki",
          "Paul Pierce",
          "Vince Carter",
          "Carmelo Anthony",
          "LeBron James",
          "Kevin Durant",
          "James Harden"
         ],
         "type": "scatter",
         "x": [
          5291,
          6311,
          4230,
          3659,
          4694,
          4648,
          3171,
          8654,
          3480,
          4741
         ],
         "y": [
          14136,
          7043,
          15075,
          11473,
          7507,
          6477,
          6934,
          8866,
          5995,
          3995
         ]
        },
        {
         "marker": {
          "size": [
           25231,
           33626,
           26492,
           31553,
           26406,
           25714,
           26436,
           34231,
           22934,
           20956
          ],
          "sizemin": 4,
          "sizemode": "area",
          "sizeref": 42.78875
         },
         "mode": "markers",
         "name": "2019",
         "text": [
          "Kevin Garnett",
          "Kobe Bryant",
          "Tim Duncan",
          "Dirk Nowitzki",
          "Paul Pierce",
          "Vince Carter",
          "Carmelo Anthony",
          "LeBron James",
          "Kevin Durant",
          "James Harden"
         ],
         "type": "scatter",
         "x": [
          5291,
          6311,
          4230,
          3659,
          4694,
          4696,
          3258,
          9337,
          3480,
          5251
         ],
         "y": [
          14136,
          7043,
          15075,
          11473,
          7507,
          6603,
          7299,
          9388,
          5995,
          4443
         ]
        },
        {
         "marker": {
          "size": [
           25231,
           33626,
           26492,
           31553,
           26406,
           25714,
           27360,
           35356,
           23875,
           22038
          ],
          "sizemin": 4,
          "sizemode": "area",
          "sizeref": 44.195
         },
         "mode": "markers",
         "name": "2020",
         "text": [
          "Kevin Garnett",
          "Kobe Bryant",
          "Tim Duncan",
          "Dirk Nowitzki",
          "Paul Pierce",
          "Vince Carter",
          "Carmelo Anthony",
          "LeBron James",
          "Kevin Durant",
          "James Harden"
         ],
         "type": "scatter",
         "x": [
          5291,
          6311,
          4230,
          3659,
          4694,
          4696,
          3361,
          9688,
          3676,
          5726
         ],
         "y": [
          14136,
          7043,
          15075,
          11473,
          7507,
          6603,
          7512,
          9734,
          6243,
          4790
         ]
        },
        {
         "marker": {
          "size": [
           25231,
           33626,
           26492,
           31553,
           26406,
           25714,
           28277,
           37052,
           25519,
           23468
          ],
          "sizemin": 4,
          "sizemode": "area",
          "sizeref": 46.315
         },
         "mode": "markers",
         "name": "2021",
         "text": [
          "Kevin Garnett",
          "Kobe Bryant",
          "Tim Duncan",
          "Dirk Nowitzki",
          "Paul Pierce",
          "Vince Carter",
          "Carmelo Anthony",
          "LeBron James",
          "Kevin Durant",
          "James Harden"
         ],
         "type": "scatter",
         "x": [
          5291,
          6311,
          4230,
          3659,
          4694,
          4696,
          3430,
          10035,
          4028,
          6395
         ],
         "y": [
          14136,
          7043,
          15075,
          11473,
          7507,
          6603,
          7801,
          10193,
          6650,
          5290
         ]
        },
        {
         "marker": {
          "size": [
           38641,
           26886,
           24686
          ],
          "sizemin": 4,
          "sizemode": "area",
          "sizeref": 48.30125
         },
         "mode": "markers",
         "name": "2022",
         "text": [
          "LeBron James",
          "Kevin Durant",
          "James Harden"
         ],
         "type": "scatter",
         "x": [
          10409,
          4263,
          7015
         ],
         "y": [
          10649,
          6964,
          5643
         ]
        }
       ],
       "layout": {
        "height": 800,
        "template": {
         "data": {
          "bar": [
           {
            "error_x": {
             "color": "#2a3f5f"
            },
            "error_y": {
             "color": "#2a3f5f"
            },
            "marker": {
             "line": {
              "color": "#E5ECF6",
              "width": 0.5
             },
             "pattern": {
              "fillmode": "overlay",
              "size": 10,
              "solidity": 0.2
             }
            },
            "type": "bar"
           }
          ],
          "barpolar": [
           {
            "marker": {
             "line": {
              "color": "#E5ECF6",
              "width": 0.5
             },
             "pattern": {
              "fillmode": "overlay",
              "size": 10,
              "solidity": 0.2
             }
            },
            "type": "barpolar"
           }
          ],
          "carpet": [
           {
            "aaxis": {
             "endlinecolor": "#2a3f5f",
             "gridcolor": "white",
             "linecolor": "white",
             "minorgridcolor": "white",
             "startlinecolor": "#2a3f5f"
            },
            "baxis": {
             "endlinecolor": "#2a3f5f",
             "gridcolor": "white",
             "linecolor": "white",
             "minorgridcolor": "white",
             "startlinecolor": "#2a3f5f"
            },
            "type": "carpet"
           }
          ],
          "choropleth": [
           {
            "colorbar": {
             "outlinewidth": 0,
             "ticks": ""
            },
            "type": "choropleth"
           }
          ],
          "contour": [
           {
            "colorbar": {
             "outlinewidth": 0,
             "ticks": ""
            },
            "colorscale": [
             [
              0,
              "#0d0887"
             ],
             [
              0.1111111111111111,
              "#46039f"
             ],
             [
              0.2222222222222222,
              "#7201a8"
             ],
             [
              0.3333333333333333,
              "#9c179e"
             ],
             [
              0.4444444444444444,
              "#bd3786"
             ],
             [
              0.5555555555555556,
              "#d8576b"
             ],
             [
              0.6666666666666666,
              "#ed7953"
             ],
             [
              0.7777777777777778,
              "#fb9f3a"
             ],
             [
              0.8888888888888888,
              "#fdca26"
             ],
             [
              1,
              "#f0f921"
             ]
            ],
            "type": "contour"
           }
          ],
          "contourcarpet": [
           {
            "colorbar": {
             "outlinewidth": 0,
             "ticks": ""
            },
            "type": "contourcarpet"
           }
          ],
          "heatmap": [
           {
            "colorbar": {
             "outlinewidth": 0,
             "ticks": ""
            },
            "colorscale": [
             [
              0,
              "#0d0887"
             ],
             [
              0.1111111111111111,
              "#46039f"
             ],
             [
              0.2222222222222222,
              "#7201a8"
             ],
             [
              0.3333333333333333,
              "#9c179e"
             ],
             [
              0.4444444444444444,
              "#bd3786"
             ],
             [
              0.5555555555555556,
              "#d8576b"
             ],
             [
              0.6666666666666666,
              "#ed7953"
             ],
             [
              0.7777777777777778,
              "#fb9f3a"
             ],
             [
              0.8888888888888888,
              "#fdca26"
             ],
             [
              1,
              "#f0f921"
             ]
            ],
            "type": "heatmap"
           }
          ],
          "heatmapgl": [
           {
            "colorbar": {
             "outlinewidth": 0,
             "ticks": ""
            },
            "colorscale": [
             [
              0,
              "#0d0887"
             ],
             [
              0.1111111111111111,
              "#46039f"
             ],
             [
              0.2222222222222222,
              "#7201a8"
             ],
             [
              0.3333333333333333,
              "#9c179e"
             ],
             [
              0.4444444444444444,
              "#bd3786"
             ],
             [
              0.5555555555555556,
              "#d8576b"
             ],
             [
              0.6666666666666666,
              "#ed7953"
             ],
             [
              0.7777777777777778,
              "#fb9f3a"
             ],
             [
              0.8888888888888888,
              "#fdca26"
             ],
             [
              1,
              "#f0f921"
             ]
            ],
            "type": "heatmapgl"
           }
          ],
          "histogram": [
           {
            "marker": {
             "pattern": {
              "fillmode": "overlay",
              "size": 10,
              "solidity": 0.2
             }
            },
            "type": "histogram"
           }
          ],
          "histogram2d": [
           {
            "colorbar": {
             "outlinewidth": 0,
             "ticks": ""
            },
            "colorscale": [
             [
              0,
              "#0d0887"
             ],
             [
              0.1111111111111111,
              "#46039f"
             ],
             [
              0.2222222222222222,
              "#7201a8"
             ],
             [
              0.3333333333333333,
              "#9c179e"
             ],
             [
              0.4444444444444444,
              "#bd3786"
             ],
             [
              0.5555555555555556,
              "#d8576b"
             ],
             [
              0.6666666666666666,
              "#ed7953"
             ],
             [
              0.7777777777777778,
              "#fb9f3a"
             ],
             [
              0.8888888888888888,
              "#fdca26"
             ],
             [
              1,
              "#f0f921"
             ]
            ],
            "type": "histogram2d"
           }
          ],
          "histogram2dcontour": [
           {
            "colorbar": {
             "outlinewidth": 0,
             "ticks": ""
            },
            "colorscale": [
             [
              0,
              "#0d0887"
             ],
             [
              0.1111111111111111,
              "#46039f"
             ],
             [
              0.2222222222222222,
              "#7201a8"
             ],
             [
              0.3333333333333333,
              "#9c179e"
             ],
             [
              0.4444444444444444,
              "#bd3786"
             ],
             [
              0.5555555555555556,
              "#d8576b"
             ],
             [
              0.6666666666666666,
              "#ed7953"
             ],
             [
              0.7777777777777778,
              "#fb9f3a"
             ],
             [
              0.8888888888888888,
              "#fdca26"
             ],
             [
              1,
              "#f0f921"
             ]
            ],
            "type": "histogram2dcontour"
           }
          ],
          "mesh3d": [
           {
            "colorbar": {
             "outlinewidth": 0,
             "ticks": ""
            },
            "type": "mesh3d"
           }
          ],
          "parcoords": [
           {
            "line": {
             "colorbar": {
              "outlinewidth": 0,
              "ticks": ""
             }
            },
            "type": "parcoords"
           }
          ],
          "pie": [
           {
            "automargin": true,
            "type": "pie"
           }
          ],
          "scatter": [
           {
            "fillpattern": {
             "fillmode": "overlay",
             "size": 10,
             "solidity": 0.2
            },
            "type": "scatter"
           }
          ],
          "scatter3d": [
           {
            "line": {
             "colorbar": {
              "outlinewidth": 0,
              "ticks": ""
             }
            },
            "marker": {
             "colorbar": {
              "outlinewidth": 0,
              "ticks": ""
             }
            },
            "type": "scatter3d"
           }
          ],
          "scattercarpet": [
           {
            "marker": {
             "colorbar": {
              "outlinewidth": 0,
              "ticks": ""
             }
            },
            "type": "scattercarpet"
           }
          ],
          "scattergeo": [
           {
            "marker": {
             "colorbar": {
              "outlinewidth": 0,
              "ticks": ""
             }
            },
            "type": "scattergeo"
           }
          ],
          "scattergl": [
           {
            "marker": {
             "colorbar": {
              "outlinewidth": 0,
              "ticks": ""
             }
            },
            "type": "scattergl"
           }
          ],
          "scattermapbox": [
           {
            "marker": {
             "colorbar": {
              "outlinewidth": 0,
              "ticks": ""
             }
            },
            "type": "scattermapbox"
           }
          ],
          "scatterpolar": [
           {
            "marker": {
             "colorbar": {
              "outlinewidth": 0,
              "ticks": ""
             }
            },
            "type": "scatterpolar"
           }
          ],
          "scatterpolargl": [
           {
            "marker": {
             "colorbar": {
              "outlinewidth": 0,
              "ticks": ""
             }
            },
            "type": "scatterpolargl"
           }
          ],
          "scatterternary": [
           {
            "marker": {
             "colorbar": {
              "outlinewidth": 0,
              "ticks": ""
             }
            },
            "type": "scatterternary"
           }
          ],
          "surface": [
           {
            "colorbar": {
             "outlinewidth": 0,
             "ticks": ""
            },
            "colorscale": [
             [
              0,
              "#0d0887"
             ],
             [
              0.1111111111111111,
              "#46039f"
             ],
             [
              0.2222222222222222,
              "#7201a8"
             ],
             [
              0.3333333333333333,
              "#9c179e"
             ],
             [
              0.4444444444444444,
              "#bd3786"
             ],
             [
              0.5555555555555556,
              "#d8576b"
             ],
             [
              0.6666666666666666,
              "#ed7953"
             ],
             [
              0.7777777777777778,
              "#fb9f3a"
             ],
             [
              0.8888888888888888,
              "#fdca26"
             ],
             [
              1,
              "#f0f921"
             ]
            ],
            "type": "surface"
           }
          ],
          "table": [
           {
            "cells": {
             "fill": {
              "color": "#EBF0F8"
             },
             "line": {
              "color": "white"
             }
            },
            "header": {
             "fill": {
              "color": "#C8D4E3"
             },
             "line": {
              "color": "white"
             }
            },
            "type": "table"
           }
          ]
         },
         "layout": {
          "annotationdefaults": {
           "arrowcolor": "#2a3f5f",
           "arrowhead": 0,
           "arrowwidth": 1
          },
          "autotypenumbers": "strict",
          "coloraxis": {
           "colorbar": {
            "outlinewidth": 0,
            "ticks": ""
           }
          },
          "colorscale": {
           "diverging": [
            [
             0,
             "#8e0152"
            ],
            [
             0.1,
             "#c51b7d"
            ],
            [
             0.2,
             "#de77ae"
            ],
            [
             0.3,
             "#f1b6da"
            ],
            [
             0.4,
             "#fde0ef"
            ],
            [
             0.5,
             "#f7f7f7"
            ],
            [
             0.6,
             "#e6f5d0"
            ],
            [
             0.7,
             "#b8e186"
            ],
            [
             0.8,
             "#7fbc41"
            ],
            [
             0.9,
             "#4d9221"
            ],
            [
             1,
             "#276419"
            ]
           ],
           "sequential": [
            [
             0,
             "#0d0887"
            ],
            [
             0.1111111111111111,
             "#46039f"
            ],
            [
             0.2222222222222222,
             "#7201a8"
            ],
            [
             0.3333333333333333,
             "#9c179e"
            ],
            [
             0.4444444444444444,
             "#bd3786"
            ],
            [
             0.5555555555555556,
             "#d8576b"
            ],
            [
             0.6666666666666666,
             "#ed7953"
            ],
            [
             0.7777777777777778,
             "#fb9f3a"
            ],
            [
             0.8888888888888888,
             "#fdca26"
            ],
            [
             1,
             "#f0f921"
            ]
           ],
           "sequentialminus": [
            [
             0,
             "#0d0887"
            ],
            [
             0.1111111111111111,
             "#46039f"
            ],
            [
             0.2222222222222222,
             "#7201a8"
            ],
            [
             0.3333333333333333,
             "#9c179e"
            ],
            [
             0.4444444444444444,
             "#bd3786"
            ],
            [
             0.5555555555555556,
             "#d8576b"
            ],
            [
             0.6666666666666666,
             "#ed7953"
            ],
            [
             0.7777777777777778,
             "#fb9f3a"
            ],
            [
             0.8888888888888888,
             "#fdca26"
            ],
            [
             1,
             "#f0f921"
            ]
           ]
          },
          "colorway": [
           "#636efa",
           "#EF553B",
           "#00cc96",
           "#ab63fa",
           "#FFA15A",
           "#19d3f3",
           "#FF6692",
           "#B6E880",
           "#FF97FF",
           "#FECB52"
          ],
          "font": {
           "color": "#2a3f5f"
          },
          "geo": {
           "bgcolor": "white",
           "lakecolor": "white",
           "landcolor": "#E5ECF6",
           "showlakes": true,
           "showland": true,
           "subunitcolor": "white"
          },
          "hoverlabel": {
           "align": "left"
          },
          "hovermode": "closest",
          "mapbox": {
           "style": "light"
          },
          "paper_bgcolor": "white",
          "plot_bgcolor": "#E5ECF6",
          "polar": {
           "angularaxis": {
            "gridcolor": "white",
            "linecolor": "white",
            "ticks": ""
           },
           "bgcolor": "#E5ECF6",
           "radialaxis": {
            "gridcolor": "white",
            "linecolor": "white",
            "ticks": ""
           }
          },
          "scene": {
           "xaxis": {
            "backgroundcolor": "#E5ECF6",
            "gridcolor": "white",
            "gridwidth": 2,
            "linecolor": "white",
            "showbackground": true,
            "ticks": "",
            "zerolinecolor": "white"
           },
           "yaxis": {
            "backgroundcolor": "#E5ECF6",
            "gridcolor": "white",
            "gridwidth": 2,
            "linecolor": "white",
            "showbackground": true,
            "ticks": "",
            "zerolinecolor": "white"
           },
           "zaxis": {
            "backgroundcolor": "#E5ECF6",
            "gridcolor": "white",
            "gridwidth": 2,
            "linecolor": "white",
            "showbackground": true,
            "ticks": "",
            "zerolinecolor": "white"
           }
          },
          "shapedefaults": {
           "line": {
            "color": "#2a3f5f"
           }
          },
          "ternary": {
           "aaxis": {
            "gridcolor": "white",
            "linecolor": "white",
            "ticks": ""
           },
           "baxis": {
            "gridcolor": "white",
            "linecolor": "white",
            "ticks": ""
           },
           "bgcolor": "#E5ECF6",
           "caxis": {
            "gridcolor": "white",
            "linecolor": "white",
            "ticks": ""
           }
          },
          "title": {
           "x": 0.05
          },
          "xaxis": {
           "automargin": true,
           "gridcolor": "white",
           "linecolor": "white",
           "ticks": "",
           "title": {
            "standoff": 15
           },
           "zerolinecolor": "white",
           "zerolinewidth": 2
          },
          "yaxis": {
           "automargin": true,
           "gridcolor": "white",
           "linecolor": "white",
           "ticks": "",
           "title": {
            "standoff": 15
           },
           "zerolinecolor": "white",
           "zerolinewidth": 2
          }
         }
        },
        "title": {
         "text": "NBA Top Scorers: 1996 - 2021"
        },
        "xaxis": {
         "title": {
          "text": "total_ast"
         }
        },
        "yaxis": {
         "title": {
          "text": "total_reb"
         }
        }
       }
      }
     },
     "metadata": {},
     "output_type": "display_data"
    }
   ],
   "source": [
    "import plotly.graph_objects as go\n",
    "# 创建一个空的图表\n",
    "fig = go.Figure()\n",
    "# 对每一年的数据进行处理\n",
    "for year in topp['year'].unique():\n",
    "    # 提取这一年的数据\n",
    "    df_year = topp[topp['year'] == year]\n",
    "    # 添加一个气泡图层\n",
    "    fig.add_trace(go.Scatter(\n",
    "        x=df_year[x_axis],  # x轴数据\n",
    "        y=df_year[y_axis],  # y轴数据\n",
    "        mode='markers',     # 设置为气泡图\n",
    "        marker=dict(        # 设置气泡的属性\n",
    "            size=df_year['total_pts'],  # 气泡的大小由总得分决定\n",
    "            sizemode='area',   # 气泡的大小以面积方式展示\n",
    "            sizeref=2.*max(df_year['total_pts'])/(40.**2),  # 设置气泡大小的参考值，使得气泡的大小在一个合适的范围内\n",
    "            sizemin=4,  # 设置气泡的最小大小\n",
    "        ),\n",
    "        name=str(year),   # 设置图层的名称，这将作为图例的标签\n",
    "        text=df_year['name'],  # 设置气泡的标签，这将在鼠标悬停时显示\n",
    "    ))\n",
    "# 设置标题和轴标签\n",
    "fig.update_layout(\n",
    "    title=f'NBA Top Scorers: 1996 - 2022',\n",
    "    xaxis=dict(title=x_axis),\n",
    "    yaxis=dict(title=y_axis),\n",
    "    height=800,\n",
    ")\n",
    "# 显示图表\n",
    "fig.show()"
   ]
  },
  {
   "cell_type": "code",
   "execution_count": null,
   "metadata": {},
   "outputs": [],
   "source": []
  }
 ],
 "metadata": {
  "kernelspec": {
   "display_name": "nbaanalytics",
   "language": "python",
   "name": "python3"
  },
  "language_info": {
   "codemirror_mode": {
    "name": "ipython",
    "version": 3
   },
   "file_extension": ".py",
   "mimetype": "text/x-python",
   "name": "python",
   "nbconvert_exporter": "python",
   "pygments_lexer": "ipython3",
   "version": "3.10.0"
  }
 },
 "nbformat": 4,
 "nbformat_minor": 2
}
